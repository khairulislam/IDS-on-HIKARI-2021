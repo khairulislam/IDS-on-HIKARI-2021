{
 "cells": [
  {
   "cell_type": "markdown",
   "metadata": {},
   "source": [
    "# Import libraries"
   ]
  },
  {
   "cell_type": "code",
   "execution_count": 45,
   "metadata": {},
   "outputs": [],
   "source": [
    "import pandas as pd\n",
    "from sklearn.preprocessing import MinMaxScaler, StandardScaler, LabelEncoder\n",
    "from sklearn.model_selection import train_test_split, KFold, StratifiedKFold, cross_validate\n",
    "from sklearn.feature_selection import SelectKBest, chi2\n",
    "from sklearn.metrics import accuracy_score, f1_score, roc_auc_score\n",
    "\n",
    "from imblearn.over_sampling import RandomOverSampler\n",
    "from imblearn.under_sampling import RandomUnderSampler\n",
    "from sklearn.ensemble import RandomForestClassifier\n",
    "import numpy as np\n",
    "import random\n",
    "\n",
    "seed = 2022\n",
    "random.seed(seed)"
   ]
  },
  {
   "cell_type": "markdown",
   "metadata": {},
   "source": [
    "# Input file"
   ]
  },
  {
   "cell_type": "code",
   "execution_count": 3,
   "metadata": {},
   "outputs": [
    {
     "data": {
      "text/html": [
       "<div>\n",
       "<style scoped>\n",
       "    .dataframe tbody tr th:only-of-type {\n",
       "        vertical-align: middle;\n",
       "    }\n",
       "\n",
       "    .dataframe tbody tr th {\n",
       "        vertical-align: top;\n",
       "    }\n",
       "\n",
       "    .dataframe thead th {\n",
       "        text-align: right;\n",
       "    }\n",
       "</style>\n",
       "<table border=\"1\" class=\"dataframe\">\n",
       "  <thead>\n",
       "    <tr style=\"text-align: right;\">\n",
       "      <th></th>\n",
       "      <th>Unnamed: 0.1</th>\n",
       "      <th>Unnamed: 0</th>\n",
       "      <th>uid</th>\n",
       "      <th>originh</th>\n",
       "      <th>originp</th>\n",
       "      <th>responh</th>\n",
       "      <th>responp</th>\n",
       "      <th>flow_duration</th>\n",
       "      <th>fwd_pkts_tot</th>\n",
       "      <th>bwd_pkts_tot</th>\n",
       "      <th>...</th>\n",
       "      <th>idle.min</th>\n",
       "      <th>idle.max</th>\n",
       "      <th>idle.tot</th>\n",
       "      <th>idle.avg</th>\n",
       "      <th>idle.std</th>\n",
       "      <th>fwd_init_window_size</th>\n",
       "      <th>bwd_init_window_size</th>\n",
       "      <th>fwd_last_window_size</th>\n",
       "      <th>traffic_category</th>\n",
       "      <th>Label</th>\n",
       "    </tr>\n",
       "  </thead>\n",
       "  <tbody>\n",
       "    <tr>\n",
       "      <th>0</th>\n",
       "      <td>0</td>\n",
       "      <td>0</td>\n",
       "      <td>Cg61Jch3vdz9DBptj</td>\n",
       "      <td>103.255.15.23</td>\n",
       "      <td>13316</td>\n",
       "      <td>128.199.242.104</td>\n",
       "      <td>443</td>\n",
       "      <td>2.207588</td>\n",
       "      <td>15</td>\n",
       "      <td>14</td>\n",
       "      <td>...</td>\n",
       "      <td>0.000000e+00</td>\n",
       "      <td>0.000000e+00</td>\n",
       "      <td>0.000000e+00</td>\n",
       "      <td>0.000000e+00</td>\n",
       "      <td>0.0</td>\n",
       "      <td>29200</td>\n",
       "      <td>65160</td>\n",
       "      <td>0</td>\n",
       "      <td>Bruteforce-XML</td>\n",
       "      <td>1</td>\n",
       "    </tr>\n",
       "    <tr>\n",
       "      <th>1</th>\n",
       "      <td>1</td>\n",
       "      <td>1</td>\n",
       "      <td>CdRIlqLWdj35Y9vW9</td>\n",
       "      <td>103.255.15.23</td>\n",
       "      <td>13318</td>\n",
       "      <td>128.199.242.104</td>\n",
       "      <td>443</td>\n",
       "      <td>15.624266</td>\n",
       "      <td>15</td>\n",
       "      <td>14</td>\n",
       "      <td>...</td>\n",
       "      <td>1.534300e+07</td>\n",
       "      <td>1.534300e+07</td>\n",
       "      <td>1.534300e+07</td>\n",
       "      <td>1.534300e+07</td>\n",
       "      <td>0.0</td>\n",
       "      <td>29200</td>\n",
       "      <td>65160</td>\n",
       "      <td>0</td>\n",
       "      <td>Bruteforce-XML</td>\n",
       "      <td>1</td>\n",
       "    </tr>\n",
       "    <tr>\n",
       "      <th>2</th>\n",
       "      <td>2</td>\n",
       "      <td>2</td>\n",
       "      <td>CLzp9Khd0Y09Qkgrg</td>\n",
       "      <td>103.255.15.23</td>\n",
       "      <td>13320</td>\n",
       "      <td>128.199.242.104</td>\n",
       "      <td>443</td>\n",
       "      <td>12.203357</td>\n",
       "      <td>14</td>\n",
       "      <td>13</td>\n",
       "      <td>...</td>\n",
       "      <td>1.196814e+07</td>\n",
       "      <td>1.196814e+07</td>\n",
       "      <td>1.196814e+07</td>\n",
       "      <td>1.196814e+07</td>\n",
       "      <td>0.0</td>\n",
       "      <td>29200</td>\n",
       "      <td>65160</td>\n",
       "      <td>0</td>\n",
       "      <td>Bruteforce-XML</td>\n",
       "      <td>1</td>\n",
       "    </tr>\n",
       "    <tr>\n",
       "      <th>3</th>\n",
       "      <td>3</td>\n",
       "      <td>3</td>\n",
       "      <td>Cnf1YA4iLB4CSNWB88</td>\n",
       "      <td>103.255.15.23</td>\n",
       "      <td>13322</td>\n",
       "      <td>128.199.242.104</td>\n",
       "      <td>443</td>\n",
       "      <td>9.992448</td>\n",
       "      <td>14</td>\n",
       "      <td>13</td>\n",
       "      <td>...</td>\n",
       "      <td>9.759205e+06</td>\n",
       "      <td>9.759205e+06</td>\n",
       "      <td>9.759205e+06</td>\n",
       "      <td>9.759205e+06</td>\n",
       "      <td>0.0</td>\n",
       "      <td>29200</td>\n",
       "      <td>65160</td>\n",
       "      <td>0</td>\n",
       "      <td>Bruteforce-XML</td>\n",
       "      <td>1</td>\n",
       "    </tr>\n",
       "    <tr>\n",
       "      <th>4</th>\n",
       "      <td>4</td>\n",
       "      <td>4</td>\n",
       "      <td>C4ZKvv3fpO72EAOsJ6</td>\n",
       "      <td>103.255.15.23</td>\n",
       "      <td>13324</td>\n",
       "      <td>128.199.242.104</td>\n",
       "      <td>443</td>\n",
       "      <td>7.780611</td>\n",
       "      <td>14</td>\n",
       "      <td>14</td>\n",
       "      <td>...</td>\n",
       "      <td>7.545305e+06</td>\n",
       "      <td>7.545305e+06</td>\n",
       "      <td>7.545305e+06</td>\n",
       "      <td>7.545305e+06</td>\n",
       "      <td>0.0</td>\n",
       "      <td>29200</td>\n",
       "      <td>65160</td>\n",
       "      <td>0</td>\n",
       "      <td>Bruteforce-XML</td>\n",
       "      <td>1</td>\n",
       "    </tr>\n",
       "  </tbody>\n",
       "</table>\n",
       "<p>5 rows × 88 columns</p>\n",
       "</div>"
      ],
      "text/plain": [
       "   Unnamed: 0.1  Unnamed: 0                 uid        originh  originp  \\\n",
       "0             0           0   Cg61Jch3vdz9DBptj  103.255.15.23    13316   \n",
       "1             1           1   CdRIlqLWdj35Y9vW9  103.255.15.23    13318   \n",
       "2             2           2   CLzp9Khd0Y09Qkgrg  103.255.15.23    13320   \n",
       "3             3           3  Cnf1YA4iLB4CSNWB88  103.255.15.23    13322   \n",
       "4             4           4  C4ZKvv3fpO72EAOsJ6  103.255.15.23    13324   \n",
       "\n",
       "           responh  responp  flow_duration  fwd_pkts_tot  bwd_pkts_tot  ...  \\\n",
       "0  128.199.242.104      443       2.207588            15            14  ...   \n",
       "1  128.199.242.104      443      15.624266            15            14  ...   \n",
       "2  128.199.242.104      443      12.203357            14            13  ...   \n",
       "3  128.199.242.104      443       9.992448            14            13  ...   \n",
       "4  128.199.242.104      443       7.780611            14            14  ...   \n",
       "\n",
       "       idle.min      idle.max      idle.tot      idle.avg  idle.std  \\\n",
       "0  0.000000e+00  0.000000e+00  0.000000e+00  0.000000e+00       0.0   \n",
       "1  1.534300e+07  1.534300e+07  1.534300e+07  1.534300e+07       0.0   \n",
       "2  1.196814e+07  1.196814e+07  1.196814e+07  1.196814e+07       0.0   \n",
       "3  9.759205e+06  9.759205e+06  9.759205e+06  9.759205e+06       0.0   \n",
       "4  7.545305e+06  7.545305e+06  7.545305e+06  7.545305e+06       0.0   \n",
       "\n",
       "   fwd_init_window_size  bwd_init_window_size  fwd_last_window_size  \\\n",
       "0                 29200                 65160                     0   \n",
       "1                 29200                 65160                     0   \n",
       "2                 29200                 65160                     0   \n",
       "3                 29200                 65160                     0   \n",
       "4                 29200                 65160                     0   \n",
       "\n",
       "   traffic_category  Label  \n",
       "0    Bruteforce-XML      1  \n",
       "1    Bruteforce-XML      1  \n",
       "2    Bruteforce-XML      1  \n",
       "3    Bruteforce-XML      1  \n",
       "4    Bruteforce-XML      1  \n",
       "\n",
       "[5 rows x 88 columns]"
      ]
     },
     "execution_count": 3,
     "metadata": {},
     "output_type": "execute_result"
    }
   ],
   "source": [
    "df = pd.read_csv('../ALLFLOWMETER_HIKARI2021.csv')\n",
    "print(df.shape)\n",
    "df.head()"
   ]
  },
  {
   "cell_type": "markdown",
   "metadata": {},
   "source": [
    "# Setup columns\n",
    "There are \n",
    "* 88 columns in total. Some of them are `Unnamed` columns, dropped them.\n",
    "* 79 feature columns. All of them are numerical columns, either float64 or int64.\n",
    "* No categorical feature columns.\n",
    "* Two target columns\n",
    "  * Label: Benign or attack\n",
    "  * traffic_category: Benign has two categories (Benign or Background). Attack has four (Bruteforce, Bruteforce-XML, Probing, and XMRIGCC CryptoMiner)"
   ]
  },
  {
   "cell_type": "code",
   "execution_count": 4,
   "metadata": {},
   "outputs": [],
   "source": [
    "id_columns = ['uid', 'originh', 'originp', 'responh', 'responp']\n",
    "target_columns = ['traffic_category', 'Label']\n",
    "# drop Unnames columns\n",
    "df.drop(columns=[col for col in df.columns if 'Unnamed:' in col], inplace=True)"
   ]
  },
  {
   "cell_type": "code",
   "execution_count": 25,
   "metadata": {},
   "outputs": [],
   "source": [
    "feature_columns = [\n",
    "    col for col in df.columns \n",
    "        if col not in id_columns + target_columns\n",
    "]\n",
    "\n",
    "numerical_columns = [\n",
    "    col for col in feature_columns \n",
    "        if df[col].dtype in [int, np.int64, float, np.float64]\n",
    "]\n",
    "categorical_columns = [\n",
    "    col for col in feature_columns \n",
    "        if col not in numerical_columns\n",
    "]\n",
    "\n",
    "print(len(numerical_columns), len(categorical_columns))"
   ]
  },
  {
   "cell_type": "markdown",
   "metadata": {},
   "source": [
    "# Preprocessing"
   ]
  },
  {
   "cell_type": "code",
   "execution_count": 30,
   "metadata": {},
   "outputs": [
    {
     "data": {
      "text/plain": [
       "0    517582\n",
       "1     37696\n",
       "Name: Label, dtype: int64"
      ]
     },
     "execution_count": 30,
     "metadata": {},
     "output_type": "execute_result"
    }
   ],
   "source": [
    "# attack instances are a lot fewer than benign ones\n",
    "df[target_columns[1]].value_counts()"
   ]
  },
  {
   "cell_type": "markdown",
   "metadata": {},
   "source": [
    "# Training"
   ]
  },
  {
   "cell_type": "code",
   "execution_count": 29,
   "metadata": {},
   "outputs": [
    {
     "data": {
      "text/plain": [
       "0    517582\n",
       "1     37696\n",
       "Name: Label, dtype: int64"
      ]
     },
     "execution_count": 29,
     "metadata": {},
     "output_type": "execute_result"
    }
   ],
   "source": [
    "df[target_columns[1]].value_counts()"
   ]
  },
  {
   "cell_type": "code",
   "execution_count": 32,
   "metadata": {},
   "outputs": [],
   "source": [
    "X = df[feature_columns]\n",
    "Y = df[target_columns[1]]"
   ]
  },
  {
   "cell_type": "code",
   "execution_count": 41,
   "metadata": {},
   "outputs": [],
   "source": [
    "def result(y_true, y_prob):\n",
    "    auc = roc_auc_score(y_true, y_prob)\n",
    "\n",
    "    y_pred = np.round(y_prob)\n",
    "    f1_pos = f1_score(y_true, y_pred, pos_label=1)\n",
    "    f1_neg = f1_score(y_true, y_pred, pos_label=0)\n",
    "\n",
    "    print(f'AUC {np.round(auc, 2)}, F1 for attacks {np.round(f1_pos, 2)}, F1 for benigns {np.round(f1_neg, 2)}')\n",
    "\n",
    "    return auc, f1_pos, f1_neg"
   ]
  },
  {
   "cell_type": "markdown",
   "metadata": {},
   "source": [
    "## Train test validation"
   ]
  },
  {
   "cell_type": "code",
   "execution_count": null,
   "metadata": {},
   "outputs": [],
   "source": [
    "x_train, x_test, y_train, y_test = train_test_split(X, Y, test_size=0.2, shuffle=True, random_state=seed)"
   ]
  },
  {
   "cell_type": "markdown",
   "metadata": {},
   "source": [
    "### Unweighted learning"
   ]
  },
  {
   "cell_type": "code",
   "execution_count": 43,
   "metadata": {},
   "outputs": [
    {
     "data": {
      "text/plain": [
       "RandomForestClassifier(random_state=2022)"
      ]
     },
     "execution_count": 43,
     "metadata": {},
     "output_type": "execute_result"
    }
   ],
   "source": [
    "model = RandomForestClassifier(n_estimators=100, criterion='gini', max_depth=None, \n",
    "    class_weight=None, random_state=seed\n",
    ")\n",
    "model.fit(x_train, y_train)"
   ]
  },
  {
   "cell_type": "code",
   "execution_count": 44,
   "metadata": {},
   "outputs": [
    {
     "name": "stdout",
     "output_type": "stream",
     "text": [
      "Training performance\n",
      "AUC 0.98, F1 for attacks 0.58, F1 for benigns 0.97\n",
      "Testing performance\n",
      "AUC 0.89, F1 for attacks 0.1, F1 for benigns 0.94\n"
     ]
    },
    {
     "data": {
      "text/plain": [
       "(0.8899262759666244, 0.10494856825132055, 0.938004274903237)"
      ]
     },
     "execution_count": 44,
     "metadata": {},
     "output_type": "execute_result"
    }
   ],
   "source": [
    "# training performance\n",
    "print('Training performance')\n",
    "y_prob = model.predict_proba(x_train)[:, -1]\n",
    "result(y_train, y_prob)\n",
    "\n",
    "# test performance\n",
    "print('Testing performance')\n",
    "y_prob = model.predict_proba(x_test)[:, -1]\n",
    "result(y_test, y_prob)"
   ]
  },
  {
   "cell_type": "markdown",
   "metadata": {},
   "source": [
    "### Weighted learning"
   ]
  },
  {
   "cell_type": "code",
   "execution_count": 35,
   "metadata": {},
   "outputs": [
    {
     "data": {
      "text/plain": [
       "RandomForestClassifier(class_weight='balanced', random_state=2022)"
      ]
     },
     "execution_count": 35,
     "metadata": {},
     "output_type": "execute_result"
    }
   ],
   "source": [
    "model = RandomForestClassifier(n_estimators=100, criterion='gini', max_depth=None, \n",
    "    class_weight='balanced', random_state=seed\n",
    ")\n",
    "model.fit(x_train, y_train)"
   ]
  },
  {
   "cell_type": "code",
   "execution_count": 42,
   "metadata": {},
   "outputs": [
    {
     "name": "stdout",
     "output_type": "stream",
     "text": [
      "Training performance\n",
      "AUC 0.98, F1 for attacks 0.73, F1 for benigns 0.97\n",
      "Testing performance\n",
      "AUC 0.89, F1 for attacks 0.13, F1 for benigns 0.94\n"
     ]
    },
    {
     "data": {
      "text/plain": [
       "(0.8905138235652679, 0.13458879304668464, 0.936484233417905)"
      ]
     },
     "execution_count": 42,
     "metadata": {},
     "output_type": "execute_result"
    }
   ],
   "source": [
    "# training performance\n",
    "print('Training performance')\n",
    "y_prob = model.predict_proba(x_train)[:, -1]\n",
    "result(y_train, y_prob)\n",
    "\n",
    "# test performance\n",
    "print('Testing performance')\n",
    "y_prob = model.predict_proba(x_test)[:, -1]\n",
    "result(y_test, y_prob)"
   ]
  },
  {
   "cell_type": "markdown",
   "metadata": {},
   "source": [
    "## Cross validation"
   ]
  },
  {
   "cell_type": "code",
   "execution_count": null,
   "metadata": {},
   "outputs": [],
   "source": [
    "folds = 10\n",
    "kf = KFold(n_splits=folds, shuffle=True, random_state=seed)"
   ]
  },
  {
   "cell_type": "markdown",
   "metadata": {},
   "source": [
    "### Weighted learning"
   ]
  },
  {
   "cell_type": "code",
   "execution_count": 47,
   "metadata": {},
   "outputs": [
    {
     "name": "stdout",
     "output_type": "stream",
     "text": [
      "fit_time, mean 171.3735337972641, std 5.079239326246589\n",
      "score_time, mean 0.9671569108963013, std 0.0858398812749709\n",
      "test_accuracy, mean 0.8753291185510298, std 0.0011769176742212166\n",
      "test_f1, mean 0.09538201442208605, std 0.0030848086348229794\n"
     ]
    }
   ],
   "source": [
    "model = RandomForestClassifier(n_estimators=100, criterion='gini', max_depth=None, \n",
    "    class_weight='balanced', random_state=seed\n",
    ")\n",
    "\n",
    "scores = cross_validate(model, X, Y, cv=kf, scoring=[\"accuracy\", \"f1\"])\n",
    "for key in scores.keys():\n",
    "    mean, std = scores[key].mean(), scores[key].std()\n",
    "    print(f\"{key}, mean {mean}, std {std}\")"
   ]
  },
  {
   "cell_type": "markdown",
   "metadata": {},
   "source": [
    "### Unweighted learning"
   ]
  },
  {
   "cell_type": "code",
   "execution_count": null,
   "metadata": {},
   "outputs": [],
   "source": [
    "model = RandomForestClassifier(n_estimators=100, criterion='gini', max_depth=None, \n",
    "    class_weight=None, random_state=seed\n",
    ")\n",
    "\n",
    "scores = cross_validate(model, X, Y, cv=kf, scoring=[\"accuracy\", \"f1\"])\n",
    "for key in scores.keys():\n",
    "    mean, std = scores[key].mean(), scores[key].std()\n",
    "    print(f\"{key}, mean {mean}, std {std}\")"
   ]
  },
  {
   "cell_type": "markdown",
   "metadata": {},
   "source": [
    "### Sampling"
   ]
  },
  {
   "cell_type": "code",
   "execution_count": null,
   "metadata": {},
   "outputs": [],
   "source": [
    "import time, tqdm\n",
    "# from sklearn.pipeline import Pipeline\n",
    "from imblearn.pipeline import Pipeline\n",
    "from sklearn.model_selection import RepeatedStratifiedKFold\n",
    "\n",
    "start = time.clock()\n",
    "y_probs = []\n",
    "y_vals = []\n",
    "\n",
    "steps = [\n",
    "    ('under', RandomUnderSampler(sampling_strategy='majority')), \n",
    "    (\n",
    "        'model', RandomForestClassifier(n_estimators=100, criterion='gini', max_depth=None, \n",
    "                class_weight='balanced', random_state=seed \n",
    "            )\n",
    "    )\n",
    "]\n",
    "pipeline = Pipeline(steps=steps)\n",
    "\n",
    "cv = RepeatedStratifiedKFold(n_splits=10, n_repeats=1, random_state=seed)\n",
    "scores = cross_validate(pipeline, X, Y, scoring='f1_micro', cv=kf, n_jobs=-1)\n",
    "\n",
    "for (key, value) in scores:\n",
    "    print(key, value)"
   ]
  }
 ],
 "metadata": {
  "interpreter": {
   "hash": "076d5ab3cb69a029cea0e81e5a616a9bfe17a70fda9b31c7c4f4ba04648b795e"
  },
  "kernelspec": {
   "display_name": "Python 3.10.2 64-bit",
   "language": "python",
   "name": "python3"
  },
  "language_info": {
   "codemirror_mode": {
    "name": "ipython",
    "version": 3
   },
   "file_extension": ".py",
   "mimetype": "text/x-python",
   "name": "python",
   "nbconvert_exporter": "python",
   "pygments_lexer": "ipython3",
   "version": "3.10.2"
  },
  "orig_nbformat": 4
 },
 "nbformat": 4,
 "nbformat_minor": 2
}
