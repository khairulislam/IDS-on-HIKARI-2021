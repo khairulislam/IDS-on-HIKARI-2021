{
  "nbformat": 4,
  "nbformat_minor": 0,
  "metadata": {
    "colab": {
      "name": "HIKARI-2021.ipynb",
      "provenance": [],
      "collapsed_sections": [
        "I_5snYhcvWyZ",
        "JdZfdE96vvx-",
        "R7aI1BQVqXCj",
        "aL9tD5-MrWXq",
        "F03kA3f-rOTq",
        "Ly5IASxArJqX",
        "JMgfCqzIqk2S",
        "Bf-WvdlHN8Mi",
        "JlgDUQQPo00Z",
        "9v3ztD5Ro8WI",
        "6FtbtnWyhIAD",
        "ceA_WbegpZDQ",
        "rLq2rV1qpfG_",
        "JZ7uxWzCmLh0",
        "NCY1fgHM2kGg"
      ],
      "toc_visible": true
    },
    "kernelspec": {
      "name": "python3",
      "display_name": "Python 3"
    },
    "language_info": {
      "name": "python"
    }
  },
  "cells": [
    {
      "cell_type": "markdown",
      "source": [
        "# Imports"
      ],
      "metadata": {
        "id": "Qe_a5pbs2NHf"
      }
    },
    {
      "cell_type": "code",
      "source": [
        "import pandas as pd\n",
        "from sklearn.preprocessing import MinMaxScaler, StandardScaler\n",
        "from sklearn.model_selection import train_test_split, KFold, cross_validate\n",
        "from sklearn.metrics import accuracy_score, f1_score, roc_auc_score, roc_curve, precision_score, recall_score, confusion_matrix, classification_report\n",
        "\n",
        "from imblearn.under_sampling import RandomUnderSampler\n",
        "from sklearn.ensemble import RandomForestClassifier, GradientBoostingClassifier\n",
        "import numpy as np\n",
        "import random\n",
        "import matplotlib.pyplot as plt\n",
        "import seaborn as sn\n",
        "\n",
        "import time, tqdm\n",
        "# from sklearn.pipeline import Pipeline\n",
        "from imblearn.pipeline import Pipeline\n",
        "\n",
        "\n",
        "seed = 2022\n",
        "random.seed(seed)"
      ],
      "metadata": {
        "id": "dAGflsPN1nII"
      },
      "execution_count": null,
      "outputs": []
    },
    {
      "cell_type": "code",
      "source": [
        "# from sklearn.neural_network import MLPClassifier\n",
        "# from sklearn.svm import SVC\n",
        "# from sklearn.model_selection import RepeatedKFold\n",
        "\n",
        "from sklearn.tree import DecisionTreeClassifier\n",
        "from sklearn.linear_model import LogisticRegression\n",
        "from sklearn.naive_bayes import GaussianNB\n",
        "import lightgbm as lgb\n",
        "from lightgbm import LGBMClassifier\n",
        "from xgboost import XGBClassifier\n",
        "\n",
        "import gc, os"
      ],
      "metadata": {
        "id": "SDH1WbJ-2oVa"
      },
      "execution_count": null,
      "outputs": []
    },
    {
      "cell_type": "markdown",
      "source": [
        "# Load dataset"
      ],
      "metadata": {
        "id": "HyvogdwI2Pyd"
      }
    },
    {
      "cell_type": "code",
      "execution_count": null,
      "metadata": {
        "colab": {
          "base_uri": "https://localhost:8080/"
        },
        "id": "XRoOnGtn1bxT",
        "outputId": "ce902442-1c33-488b-f4a4-9988198099b4"
      },
      "outputs": [
        {
          "output_type": "stream",
          "name": "stdout",
          "text": [
            "Mounted at /content/drive\n"
          ]
        }
      ],
      "source": [
        "from google.colab import drive\n",
        "drive.mount('/content/drive')"
      ]
    },
    {
      "cell_type": "code",
      "source": [
        "%cd drive/My Drive/Projects/Network security/"
      ],
      "metadata": {
        "colab": {
          "base_uri": "https://localhost:8080/"
        },
        "id": "PuOpktrqjHRP",
        "outputId": "faf5b799-4981-4922-eb81-478552e4a9f0"
      },
      "execution_count": null,
      "outputs": [
        {
          "output_type": "stream",
          "name": "stdout",
          "text": [
            "/content/drive/My Drive/Projects/Network security\n"
          ]
        }
      ]
    },
    {
      "cell_type": "code",
      "source": [
        "df = pd.read_csv('ALLFLOWMETER_HIKARI2021.csv')\n",
        "print(df.shape)\n",
        "df.head()"
      ],
      "metadata": {
        "colab": {
          "base_uri": "https://localhost:8080/",
          "height": 334
        },
        "id": "HrAYXQVM2IYv",
        "outputId": "70ed21b7-ddc7-4f16-9002-485823c16d32"
      },
      "execution_count": null,
      "outputs": [
        {
          "output_type": "stream",
          "name": "stdout",
          "text": [
            "(555278, 88)\n"
          ]
        },
        {
          "output_type": "execute_result",
          "data": {
            "text/plain": [
              "   Unnamed: 0  Unnamed: 0.1                 uid        originh  originp  \\\n",
              "0           0             0   Cg61Jch3vdz9DBptj  103.255.15.23    13316   \n",
              "1           1             1   CdRIlqLWdj35Y9vW9  103.255.15.23    13318   \n",
              "2           2             2   CLzp9Khd0Y09Qkgrg  103.255.15.23    13320   \n",
              "3           3             3  Cnf1YA4iLB4CSNWB88  103.255.15.23    13322   \n",
              "4           4             4  C4ZKvv3fpO72EAOsJ6  103.255.15.23    13324   \n",
              "\n",
              "           responh  responp  flow_duration  fwd_pkts_tot  bwd_pkts_tot  ...  \\\n",
              "0  128.199.242.104      443       2.207588            15            14  ...   \n",
              "1  128.199.242.104      443      15.624266            15            14  ...   \n",
              "2  128.199.242.104      443      12.203357            14            13  ...   \n",
              "3  128.199.242.104      443       9.992448            14            13  ...   \n",
              "4  128.199.242.104      443       7.780611            14            14  ...   \n",
              "\n",
              "       idle.min      idle.max      idle.tot      idle.avg  idle.std  \\\n",
              "0  0.000000e+00  0.000000e+00  0.000000e+00  0.000000e+00       0.0   \n",
              "1  1.534300e+07  1.534300e+07  1.534300e+07  1.534300e+07       0.0   \n",
              "2  1.196814e+07  1.196814e+07  1.196814e+07  1.196814e+07       0.0   \n",
              "3  9.759205e+06  9.759205e+06  9.759205e+06  9.759205e+06       0.0   \n",
              "4  7.545305e+06  7.545305e+06  7.545305e+06  7.545305e+06       0.0   \n",
              "\n",
              "   fwd_init_window_size  bwd_init_window_size  fwd_last_window_size  \\\n",
              "0                 29200                 65160                     0   \n",
              "1                 29200                 65160                     0   \n",
              "2                 29200                 65160                     0   \n",
              "3                 29200                 65160                     0   \n",
              "4                 29200                 65160                     0   \n",
              "\n",
              "   traffic_category  Label  \n",
              "0    Bruteforce-XML      1  \n",
              "1    Bruteforce-XML      1  \n",
              "2    Bruteforce-XML      1  \n",
              "3    Bruteforce-XML      1  \n",
              "4    Bruteforce-XML      1  \n",
              "\n",
              "[5 rows x 88 columns]"
            ],
            "text/html": [
              "\n",
              "  <div id=\"df-1f6b6b68-65f4-4149-8c61-feea71d833d1\">\n",
              "    <div class=\"colab-df-container\">\n",
              "      <div>\n",
              "<style scoped>\n",
              "    .dataframe tbody tr th:only-of-type {\n",
              "        vertical-align: middle;\n",
              "    }\n",
              "\n",
              "    .dataframe tbody tr th {\n",
              "        vertical-align: top;\n",
              "    }\n",
              "\n",
              "    .dataframe thead th {\n",
              "        text-align: right;\n",
              "    }\n",
              "</style>\n",
              "<table border=\"1\" class=\"dataframe\">\n",
              "  <thead>\n",
              "    <tr style=\"text-align: right;\">\n",
              "      <th></th>\n",
              "      <th>Unnamed: 0</th>\n",
              "      <th>Unnamed: 0.1</th>\n",
              "      <th>uid</th>\n",
              "      <th>originh</th>\n",
              "      <th>originp</th>\n",
              "      <th>responh</th>\n",
              "      <th>responp</th>\n",
              "      <th>flow_duration</th>\n",
              "      <th>fwd_pkts_tot</th>\n",
              "      <th>bwd_pkts_tot</th>\n",
              "      <th>...</th>\n",
              "      <th>idle.min</th>\n",
              "      <th>idle.max</th>\n",
              "      <th>idle.tot</th>\n",
              "      <th>idle.avg</th>\n",
              "      <th>idle.std</th>\n",
              "      <th>fwd_init_window_size</th>\n",
              "      <th>bwd_init_window_size</th>\n",
              "      <th>fwd_last_window_size</th>\n",
              "      <th>traffic_category</th>\n",
              "      <th>Label</th>\n",
              "    </tr>\n",
              "  </thead>\n",
              "  <tbody>\n",
              "    <tr>\n",
              "      <th>0</th>\n",
              "      <td>0</td>\n",
              "      <td>0</td>\n",
              "      <td>Cg61Jch3vdz9DBptj</td>\n",
              "      <td>103.255.15.23</td>\n",
              "      <td>13316</td>\n",
              "      <td>128.199.242.104</td>\n",
              "      <td>443</td>\n",
              "      <td>2.207588</td>\n",
              "      <td>15</td>\n",
              "      <td>14</td>\n",
              "      <td>...</td>\n",
              "      <td>0.000000e+00</td>\n",
              "      <td>0.000000e+00</td>\n",
              "      <td>0.000000e+00</td>\n",
              "      <td>0.000000e+00</td>\n",
              "      <td>0.0</td>\n",
              "      <td>29200</td>\n",
              "      <td>65160</td>\n",
              "      <td>0</td>\n",
              "      <td>Bruteforce-XML</td>\n",
              "      <td>1</td>\n",
              "    </tr>\n",
              "    <tr>\n",
              "      <th>1</th>\n",
              "      <td>1</td>\n",
              "      <td>1</td>\n",
              "      <td>CdRIlqLWdj35Y9vW9</td>\n",
              "      <td>103.255.15.23</td>\n",
              "      <td>13318</td>\n",
              "      <td>128.199.242.104</td>\n",
              "      <td>443</td>\n",
              "      <td>15.624266</td>\n",
              "      <td>15</td>\n",
              "      <td>14</td>\n",
              "      <td>...</td>\n",
              "      <td>1.534300e+07</td>\n",
              "      <td>1.534300e+07</td>\n",
              "      <td>1.534300e+07</td>\n",
              "      <td>1.534300e+07</td>\n",
              "      <td>0.0</td>\n",
              "      <td>29200</td>\n",
              "      <td>65160</td>\n",
              "      <td>0</td>\n",
              "      <td>Bruteforce-XML</td>\n",
              "      <td>1</td>\n",
              "    </tr>\n",
              "    <tr>\n",
              "      <th>2</th>\n",
              "      <td>2</td>\n",
              "      <td>2</td>\n",
              "      <td>CLzp9Khd0Y09Qkgrg</td>\n",
              "      <td>103.255.15.23</td>\n",
              "      <td>13320</td>\n",
              "      <td>128.199.242.104</td>\n",
              "      <td>443</td>\n",
              "      <td>12.203357</td>\n",
              "      <td>14</td>\n",
              "      <td>13</td>\n",
              "      <td>...</td>\n",
              "      <td>1.196814e+07</td>\n",
              "      <td>1.196814e+07</td>\n",
              "      <td>1.196814e+07</td>\n",
              "      <td>1.196814e+07</td>\n",
              "      <td>0.0</td>\n",
              "      <td>29200</td>\n",
              "      <td>65160</td>\n",
              "      <td>0</td>\n",
              "      <td>Bruteforce-XML</td>\n",
              "      <td>1</td>\n",
              "    </tr>\n",
              "    <tr>\n",
              "      <th>3</th>\n",
              "      <td>3</td>\n",
              "      <td>3</td>\n",
              "      <td>Cnf1YA4iLB4CSNWB88</td>\n",
              "      <td>103.255.15.23</td>\n",
              "      <td>13322</td>\n",
              "      <td>128.199.242.104</td>\n",
              "      <td>443</td>\n",
              "      <td>9.992448</td>\n",
              "      <td>14</td>\n",
              "      <td>13</td>\n",
              "      <td>...</td>\n",
              "      <td>9.759205e+06</td>\n",
              "      <td>9.759205e+06</td>\n",
              "      <td>9.759205e+06</td>\n",
              "      <td>9.759205e+06</td>\n",
              "      <td>0.0</td>\n",
              "      <td>29200</td>\n",
              "      <td>65160</td>\n",
              "      <td>0</td>\n",
              "      <td>Bruteforce-XML</td>\n",
              "      <td>1</td>\n",
              "    </tr>\n",
              "    <tr>\n",
              "      <th>4</th>\n",
              "      <td>4</td>\n",
              "      <td>4</td>\n",
              "      <td>C4ZKvv3fpO72EAOsJ6</td>\n",
              "      <td>103.255.15.23</td>\n",
              "      <td>13324</td>\n",
              "      <td>128.199.242.104</td>\n",
              "      <td>443</td>\n",
              "      <td>7.780611</td>\n",
              "      <td>14</td>\n",
              "      <td>14</td>\n",
              "      <td>...</td>\n",
              "      <td>7.545305e+06</td>\n",
              "      <td>7.545305e+06</td>\n",
              "      <td>7.545305e+06</td>\n",
              "      <td>7.545305e+06</td>\n",
              "      <td>0.0</td>\n",
              "      <td>29200</td>\n",
              "      <td>65160</td>\n",
              "      <td>0</td>\n",
              "      <td>Bruteforce-XML</td>\n",
              "      <td>1</td>\n",
              "    </tr>\n",
              "  </tbody>\n",
              "</table>\n",
              "<p>5 rows × 88 columns</p>\n",
              "</div>\n",
              "      <button class=\"colab-df-convert\" onclick=\"convertToInteractive('df-1f6b6b68-65f4-4149-8c61-feea71d833d1')\"\n",
              "              title=\"Convert this dataframe to an interactive table.\"\n",
              "              style=\"display:none;\">\n",
              "        \n",
              "  <svg xmlns=\"http://www.w3.org/2000/svg\" height=\"24px\"viewBox=\"0 0 24 24\"\n",
              "       width=\"24px\">\n",
              "    <path d=\"M0 0h24v24H0V0z\" fill=\"none\"/>\n",
              "    <path d=\"M18.56 5.44l.94 2.06.94-2.06 2.06-.94-2.06-.94-.94-2.06-.94 2.06-2.06.94zm-11 1L8.5 8.5l.94-2.06 2.06-.94-2.06-.94L8.5 2.5l-.94 2.06-2.06.94zm10 10l.94 2.06.94-2.06 2.06-.94-2.06-.94-.94-2.06-.94 2.06-2.06.94z\"/><path d=\"M17.41 7.96l-1.37-1.37c-.4-.4-.92-.59-1.43-.59-.52 0-1.04.2-1.43.59L10.3 9.45l-7.72 7.72c-.78.78-.78 2.05 0 2.83L4 21.41c.39.39.9.59 1.41.59.51 0 1.02-.2 1.41-.59l7.78-7.78 2.81-2.81c.8-.78.8-2.07 0-2.86zM5.41 20L4 18.59l7.72-7.72 1.47 1.35L5.41 20z\"/>\n",
              "  </svg>\n",
              "      </button>\n",
              "      \n",
              "  <style>\n",
              "    .colab-df-container {\n",
              "      display:flex;\n",
              "      flex-wrap:wrap;\n",
              "      gap: 12px;\n",
              "    }\n",
              "\n",
              "    .colab-df-convert {\n",
              "      background-color: #E8F0FE;\n",
              "      border: none;\n",
              "      border-radius: 50%;\n",
              "      cursor: pointer;\n",
              "      display: none;\n",
              "      fill: #1967D2;\n",
              "      height: 32px;\n",
              "      padding: 0 0 0 0;\n",
              "      width: 32px;\n",
              "    }\n",
              "\n",
              "    .colab-df-convert:hover {\n",
              "      background-color: #E2EBFA;\n",
              "      box-shadow: 0px 1px 2px rgba(60, 64, 67, 0.3), 0px 1px 3px 1px rgba(60, 64, 67, 0.15);\n",
              "      fill: #174EA6;\n",
              "    }\n",
              "\n",
              "    [theme=dark] .colab-df-convert {\n",
              "      background-color: #3B4455;\n",
              "      fill: #D2E3FC;\n",
              "    }\n",
              "\n",
              "    [theme=dark] .colab-df-convert:hover {\n",
              "      background-color: #434B5C;\n",
              "      box-shadow: 0px 1px 3px 1px rgba(0, 0, 0, 0.15);\n",
              "      filter: drop-shadow(0px 1px 2px rgba(0, 0, 0, 0.3));\n",
              "      fill: #FFFFFF;\n",
              "    }\n",
              "  </style>\n",
              "\n",
              "      <script>\n",
              "        const buttonEl =\n",
              "          document.querySelector('#df-1f6b6b68-65f4-4149-8c61-feea71d833d1 button.colab-df-convert');\n",
              "        buttonEl.style.display =\n",
              "          google.colab.kernel.accessAllowed ? 'block' : 'none';\n",
              "\n",
              "        async function convertToInteractive(key) {\n",
              "          const element = document.querySelector('#df-1f6b6b68-65f4-4149-8c61-feea71d833d1');\n",
              "          const dataTable =\n",
              "            await google.colab.kernel.invokeFunction('convertToInteractive',\n",
              "                                                     [key], {});\n",
              "          if (!dataTable) return;\n",
              "\n",
              "          const docLinkHtml = 'Like what you see? Visit the ' +\n",
              "            '<a target=\"_blank\" href=https://colab.research.google.com/notebooks/data_table.ipynb>data table notebook</a>'\n",
              "            + ' to learn more about interactive tables.';\n",
              "          element.innerHTML = '';\n",
              "          dataTable['output_type'] = 'display_data';\n",
              "          await google.colab.output.renderOutput(dataTable, element);\n",
              "          const docLink = document.createElement('div');\n",
              "          docLink.innerHTML = docLinkHtml;\n",
              "          element.appendChild(docLink);\n",
              "        }\n",
              "      </script>\n",
              "    </div>\n",
              "  </div>\n",
              "  "
            ]
          },
          "metadata": {},
          "execution_count": 6
        }
      ]
    },
    {
      "cell_type": "markdown",
      "source": [
        "# Preprocess"
      ],
      "metadata": {
        "id": "hH-1s3gVl2Ih"
      }
    },
    {
      "cell_type": "code",
      "source": [
        "id_columns = ['uid', 'originh', 'originp', 'responh', 'responp']\n",
        "target_columns = ['traffic_category', 'Label']\n",
        "# drop Unnames columns\n",
        "df.drop(columns=[col for col in df.columns if 'Unnamed:' in col], inplace=True)"
      ],
      "metadata": {
        "id": "c9-_C7-d2Xsd"
      },
      "execution_count": null,
      "outputs": []
    },
    {
      "cell_type": "code",
      "source": [
        "feature_columns = [\n",
        "    col for col in df.columns \n",
        "        if col not in id_columns + target_columns\n",
        "]\n",
        "\n",
        "numerical_columns = [\n",
        "    col for col in feature_columns \n",
        "        if df[col].dtype in [int, np.int64, float, np.float64]\n",
        "]\n",
        "categorical_columns = [\n",
        "    col for col in feature_columns \n",
        "        if col not in numerical_columns\n",
        "]\n",
        "\n",
        "print(len(numerical_columns), len(categorical_columns))"
      ],
      "metadata": {
        "colab": {
          "base_uri": "https://localhost:8080/"
        },
        "id": "wvD9MlOt2ZX-",
        "outputId": "1fa22178-e43c-45df-9d55-5eb8019caf89"
      },
      "execution_count": null,
      "outputs": [
        {
          "output_type": "stream",
          "name": "stdout",
          "text": [
            "79 0\n"
          ]
        }
      ]
    },
    {
      "cell_type": "code",
      "source": [
        "X = df[feature_columns]\n",
        "Y = df[target_columns[1]]\n",
        "Y.value_counts()"
      ],
      "metadata": {
        "id": "XxbMoKvi2bTu",
        "colab": {
          "base_uri": "https://localhost:8080/"
        },
        "outputId": "cf8366c1-fff6-41e5-f15c-9428805c20c8"
      },
      "execution_count": null,
      "outputs": [
        {
          "output_type": "execute_result",
          "data": {
            "text/plain": [
              "0    517582\n",
              "1     37696\n",
              "Name: Label, dtype: int64"
            ]
          },
          "metadata": {},
          "execution_count": 9
        }
      ]
    },
    {
      "cell_type": "code",
      "source": [
        "ax = df['traffic_category'].value_counts().plot(kind='bar', rot=0, figsize=(12, 6), fontsize=12)\n",
        "ax.set_xlabel('Traffice category', fontsize=12)\n",
        "ax.set_ylabel('Count', fontsize=12)\n",
        "plt.savefig('traffic-category-count.pdf', dpi=600)"
      ],
      "metadata": {
        "colab": {
          "base_uri": "https://localhost:8080/",
          "height": 394
        },
        "id": "SXoq_zt1jwe_",
        "outputId": "976a7c4a-0e07-4fb8-e579-2d7b8bfb8e56"
      },
      "execution_count": null,
      "outputs": [
        {
          "output_type": "display_data",
          "data": {
            "text/plain": [
              "<Figure size 864x432 with 1 Axes>"
            ],
            "image/png": "[encoded data removed]"
          },
          "metadata": {
            "needs_background": "light"
          }
        }
      ]
    },
    {
      "cell_type": "code",
      "source": [
        "x_train, x_test, y_train, y_test = train_test_split(X, Y, test_size=0.2, shuffle=True, random_state=seed)"
      ],
      "metadata": {
        "id": "DSRo0y8f26AA"
      },
      "execution_count": null,
      "outputs": []
    },
    {
      "cell_type": "markdown",
      "source": [
        "# Utils"
      ],
      "metadata": {
        "id": "2INTzQ7v-qpM"
      }
    },
    {
      "cell_type": "code",
      "source": [
        "def result(y_true, y_prob, threshold=0.5, verbose=True):\n",
        "    auc = roc_auc_score(y_true, y_prob)\n",
        "\n",
        "    y_pred = np.where(y_prob>=threshold, 1, 0)\n",
        "    f1 = f1_score(y_true, y_pred)\n",
        "    precision = precision_score(y_true, y_pred)\n",
        "    recall = recall_score(y_true, y_pred)\n",
        "    accuracy = accuracy_score(y_true, y_pred)\n",
        "\n",
        "    if verbose:\n",
        "      print(f'AUC {auc:.4f}, F1 {f1:.4f}, Precision {precision:.4f}, Recall {recall:.4f}, Accuracy {accuracy:.4f}')\n",
        "\n",
        "    return auc, f1, precision, recall, accuracy\n",
        "\n",
        "def print_scores(scores_df):\n",
        "  endline = ' \\\\\\\\ \\hline'\n",
        "  print('\\\\textbf{Model} & ' + '} & \\\\textbf{'.join(['\\\\textbf{auc', 'f1', 'precision', 'recall', 'accuracy}']) + endline)\n",
        "  model_names = [col for col in scores_df.columns if col != 'Metric']\n",
        "  for model_name in model_names:\n",
        "    values = scores_df.loc[:, model_name].values\n",
        "    result_array =  [str(model_name)] + [str(np.round(value, 3)) for value in values]\n",
        "    print(' & '.join(result_array) + endline)"
      ],
      "metadata": {
        "id": "LsaaZEMg3RGW"
      },
      "execution_count": null,
      "outputs": []
    },
    {
      "cell_type": "markdown",
      "source": [
        "# Models"
      ],
      "metadata": {
        "id": "M8MrNoCBwI-5"
      }
    },
    {
      "cell_type": "code",
      "source": [
        "models = [\n",
        "    LogisticRegression(random_state=seed, n_jobs=-1),\n",
        "    DecisionTreeClassifier(random_state=seed),\n",
        "    \n",
        "    RandomForestClassifier(random_state=seed, n_jobs=-1),\n",
        "    GaussianNB(),\n",
        "    # SVC(random_state=seed),\n",
        "    # GradientBoostingClassifier(random_state=seed),\n",
        "    XGBClassifier(eval_metric=\"logloss\", random_state=seed),\n",
        "    LGBMClassifier(random_state=seed)\n",
        "]"
      ],
      "metadata": {
        "id": "_JXIpoFZ2kQP"
      },
      "execution_count": null,
      "outputs": []
    },
    {
      "cell_type": "markdown",
      "source": [
        "# Whole dataset"
      ],
      "metadata": {
        "id": "eBymI63s238r"
      }
    },
    {
      "cell_type": "code",
      "source": [
        "# LogisticRegression\n",
        "# AUC 0.3353, F1 0.0073, Precision 0.2593, Recall 0.0037, Accuracy 0.9315\n",
        "# DecisionTreeClassifier\n",
        "# AUC 0.5345, F1 0.1356, Precision 0.1194, Recall 0.1570, Accuracy 0.8639\n",
        "# RandomForestClassifier\n",
        "# AUC 0.8903, F1 0.1093, Precision 0.1155, Recall 0.1038, Accuracy 0.8850\n",
        "# GaussianNB\n",
        "# AUC 0.6295, F1 0.1605, Precision 0.0874, Recall 0.9791, Accuracy 0.3037\n",
        "# XGBClassifier\n",
        "# AUC 0.9465, F1 0.1909, Precision 0.5512, Recall 0.1155, Accuracy 0.9335\n",
        "# LGBMClassifier\n",
        "# AUC 0.9474, F1 0.3278, Precision 0.4847, Recall 0.2476, Accuracy 0.9309\n",
        "scores = {'Metric': ['auc', 'f1', 'precision', 'recall', 'accuracy']}\n",
        "\n",
        "for model in models:\n",
        "  model_name = model.__class__.__name__\n",
        "  print(model_name)\n",
        "  model.fit(x_train, y_train)\n",
        "\n",
        "  y_prob = model.predict_proba(x_test)[:, -1]\n",
        "  scores[model_name] = result(y_test, y_prob)"
      ],
      "metadata": {
        "colab": {
          "base_uri": "https://localhost:8080/"
        },
        "id": "Y9AgdPhr28ZX",
        "outputId": "7f38f21e-a03e-4b26-a686-2f681c13abd1"
      },
      "execution_count": null,
      "outputs": [
        {
          "output_type": "stream",
          "name": "stdout",
          "text": [
            "LogisticRegression\n",
            "AUC 0.3355, F1 0.0060, Precision 0.2150, Recall 0.0030, Accuracy 0.9310\n",
            "DecisionTreeClassifier\n",
            "AUC 0.5357, F1 0.1373, Precision 0.1209, Recall 0.1589, Accuracy 0.8635\n",
            "RandomForestClassifier\n",
            "AUC 0.8899, F1 0.1058, Precision 0.1120, Recall 0.1003, Accuracy 0.8841\n",
            "GaussianNB\n",
            "AUC 0.6284, F1 0.1608, Precision 0.0876, Recall 0.9771, Accuracy 0.3024\n",
            "XGBClassifier\n",
            "AUC 0.9462, F1 0.1807, Precision 0.5417, Recall 0.1085, Accuracy 0.9327\n",
            "LGBMClassifier\n",
            "AUC 0.9473, F1 0.3236, Precision 0.4812, Recall 0.2438, Accuracy 0.9303\n"
          ]
        }
      ]
    },
    {
      "cell_type": "code",
      "source": [
        "scores_df = pd.DataFrame(scores)"
      ],
      "metadata": {
        "id": "GhASlSRuAWm-"
      },
      "execution_count": null,
      "outputs": []
    },
    {
      "cell_type": "code",
      "source": [
        "print_scores(scores_df)"
      ],
      "metadata": {
        "colab": {
          "base_uri": "https://localhost:8080/"
        },
        "id": "mGhjh3YcBQmv",
        "outputId": "c67f517c-1686-4b9b-c814-50d05574e3bb"
      },
      "execution_count": null,
      "outputs": [
        {
          "output_type": "stream",
          "name": "stdout",
          "text": [
            "\\textbf{Model} & \\textbf{auc} & \\textbf{f1} & \\textbf{precision} & \\textbf{recall} & \\textbf{accuracy} \\\\ \\hline\n",
            "LogisticRegression & 0.336 & 0.006 & 0.215 & 0.003 & 0.931 \\\\ \\hline\n",
            "DecisionTreeClassifier & 0.536 & 0.137 & 0.121 & 0.159 & 0.863 \\\\ \\hline\n",
            "RandomForestClassifier & 0.89 & 0.106 & 0.112 & 0.1 & 0.884 \\\\ \\hline\n",
            "GaussianNB & 0.628 & 0.161 & 0.088 & 0.977 & 0.302 \\\\ \\hline\n",
            "XGBClassifier & 0.946 & 0.181 & 0.542 & 0.108 & 0.933 \\\\ \\hline\n",
            "LGBMClassifier & 0.947 & 0.324 & 0.481 & 0.244 & 0.93 \\\\ \\hline\n"
          ]
        }
      ]
    },
    {
      "cell_type": "code",
      "source": [
        "scores_df.to_csv('result_whole.csv', index=False)"
      ],
      "metadata": {
        "id": "A2fxCbjWBFZW"
      },
      "execution_count": null,
      "outputs": []
    },
    {
      "cell_type": "markdown",
      "source": [
        "# Undersample"
      ],
      "metadata": {
        "id": "YXBSQeQonc1W"
      }
    },
    {
      "cell_type": "code",
      "source": [
        "underSampler = RandomUnderSampler(sampling_strategy='majority', random_state=seed)\n",
        "x_train_sampled, y_train_sampled = underSampler.fit_resample(x_train, y_train)"
      ],
      "metadata": {
        "id": "Ll6uKj1roA3m"
      },
      "execution_count": null,
      "outputs": []
    },
    {
      "cell_type": "code",
      "source": [
        "# LogisticRegression\n",
        "# AUC 0.8890, F1 0.3619, Precision 0.2219, Recall 0.9791, Accuracy 0.7652\n",
        "# DecisionTreeClassifier\n",
        "# AUC 0.8691, F1 0.4748, Precision 0.3264, Recall 0.8702, Accuracy 0.8691\n",
        "# RandomForestClassifier\n",
        "# AUC 0.9303, F1 0.4839, Precision 0.3247, Recall 0.9494, Accuracy 0.8623\n",
        "# GaussianNB\n",
        "# AUC 0.6341, F1 0.1694, Precision 0.0927, Recall 0.9807, Accuracy 0.3458\n",
        "# XGBClassifier\n",
        "# AUC 0.9485, F1 0.4959, Precision 0.3297, Recall 0.9997, Accuracy 0.8618\n",
        "# LGBMClassifier\n",
        "# AUC 0.9467, F1 0.4985, Precision 0.3321, Recall 0.9992, Accuracy 0.8633\n",
        "scores = {'Metric': ['auc', 'f1', 'precision', 'recall', 'accuracy']}\n",
        "\n",
        "for model in models:\n",
        "  model_name = model.__class__.__name__\n",
        "  print(model_name)\n",
        "  model.fit(x_train_sampled, y_train_sampled)\n",
        "\n",
        "  y_prob = model.predict_proba(x_test)[:, -1]\n",
        "  scores[model_name] = result(y_test, y_prob)"
      ],
      "metadata": {
        "colab": {
          "base_uri": "https://localhost:8080/"
        },
        "id": "9somn872oM1G",
        "outputId": "11248586-286d-4a7f-d8e9-70dfd1661a88"
      },
      "execution_count": null,
      "outputs": [
        {
          "output_type": "stream",
          "name": "stdout",
          "text": [
            "LogisticRegression\n",
            "AUC 0.8881, F1 0.3624, Precision 0.2225, Recall 0.9772, Accuracy 0.7648\n",
            "DecisionTreeClassifier\n",
            "AUC 0.8648, F1 0.4724, Precision 0.3253, Recall 0.8622, Accuracy 0.8683\n",
            "RandomForestClassifier\n",
            "AUC 0.9292, F1 0.4841, Precision 0.3254, Recall 0.9447, Accuracy 0.8622\n",
            "GaussianNB\n",
            "AUC 0.6329, F1 0.1696, Precision 0.0929, Recall 0.9784, Accuracy 0.3446\n",
            "XGBClassifier\n",
            "AUC 0.9481, F1 0.4983, Precision 0.3318, Recall 0.9996, Accuracy 0.8623\n",
            "LGBMClassifier\n",
            "AUC 0.9456, F1 0.5003, Precision 0.3337, Recall 0.9991, Accuracy 0.8635\n"
          ]
        }
      ]
    },
    {
      "cell_type": "code",
      "source": [
        "scores_df = pd.DataFrame(scores)\n",
        "print_scores(scores_df)\n",
        "scores_df.to_csv('result_undersample.csv', index=False)"
      ],
      "metadata": {
        "colab": {
          "base_uri": "https://localhost:8080/"
        },
        "id": "4lZYqenhHNgM",
        "outputId": "f95c3d76-5498-449f-9b6d-0122be901596"
      },
      "execution_count": null,
      "outputs": [
        {
          "output_type": "stream",
          "name": "stdout",
          "text": [
            "\\textbf{Model} & \\textbf{auc} & \\textbf{f1} & \\textbf{precision} & \\textbf{recall} & \\textbf{accuracy} \\\\ \\hline\n",
            "LogisticRegression & 0.888 & 0.362 & 0.222 & 0.977 & 0.765 \\\\ \\hline\n",
            "DecisionTreeClassifier & 0.865 & 0.472 & 0.325 & 0.862 & 0.868 \\\\ \\hline\n",
            "RandomForestClassifier & 0.929 & 0.484 & 0.325 & 0.945 & 0.862 \\\\ \\hline\n",
            "GaussianNB & 0.633 & 0.17 & 0.093 & 0.978 & 0.345 \\\\ \\hline\n",
            "XGBClassifier & 0.948 & 0.498 & 0.332 & 1.0 & 0.862 \\\\ \\hline\n",
            "LGBMClassifier & 0.946 & 0.5 & 0.334 & 0.999 & 0.863 \\\\ \\hline\n"
          ]
        }
      ]
    },
    {
      "cell_type": "markdown",
      "source": [
        "# Undersample + Scaling"
      ],
      "metadata": {
        "id": "IZOG-gxGoSFm"
      }
    },
    {
      "cell_type": "code",
      "source": [
        "scaler = StandardScaler()\n",
        "x_train_scaled = scaler.fit_transform(x_train_sampled)\n",
        "x_test_scaled = scaler.transform(x_test)"
      ],
      "metadata": {
        "id": "LWQEU3LmoXhX"
      },
      "execution_count": null,
      "outputs": []
    },
    {
      "cell_type": "code",
      "source": [
        "# LogisticRegression\n",
        "# AUC 0.8825, F1 0.2788, Precision 0.1627, Recall 0.9733, Accuracy 0.6576\n",
        "# DecisionTreeClassifier\n",
        "# AUC 0.3824, F1 0.0537, Precision 0.0318, Recall 0.1729, Accuracy 0.5856\n",
        "# RandomForestClassifier\n",
        "# AUC 0.4407, F1 0.0032, Precision 0.5455, Recall 0.0016, Accuracy 0.9320\n",
        "# GaussianNB\n",
        "# AUC 0.5000, F1 0.0000, Precision 0.0000, Recall 0.0000, Accuracy 0.9320\n",
        "# XGBClassifier\n",
        "# AUC 0.3201, F1 0.0475, Precision 0.0272, Recall 0.1870, Accuracy 0.4896\n",
        "# LGBMClassifier\n",
        "# AUC 0.3010, F1 0.1192, Precision 0.2011, Recall 0.0847, Accuracy 0.9149\n",
        "\n",
        "scores = {'Metric': ['auc', 'f1', 'precision', 'recall', 'accuracy']}\n",
        "\n",
        "for model in models:\n",
        "  model_name = model.__class__.__name__\n",
        "  print(model_name)\n",
        "  model.fit(x_train_scaled, y_train_sampled)\n",
        "\n",
        "  y_prob = model.predict_proba(x_test_scaled)[:, -1]\n",
        "  scores[model_name] = result(y_test, y_prob)"
      ],
      "metadata": {
        "colab": {
          "base_uri": "https://localhost:8080/"
        },
        "id": "Hpld9VMDxcV4",
        "outputId": "18bc3e17-9702-4ae2-d9ef-ecfa4adfee77"
      },
      "execution_count": null,
      "outputs": [
        {
          "output_type": "stream",
          "name": "stdout",
          "text": [
            "LogisticRegression\n",
            "AUC 0.9195, F1 0.4624, Precision 0.3018, Recall 0.9883, Accuracy 0.8428\n",
            "DecisionTreeClassifier\n",
            "AUC 0.8628, F1 0.4702, Precision 0.3238, Recall 0.8584, Accuracy 0.8677\n",
            "RandomForestClassifier\n",
            "AUC 0.9291, F1 0.4843, Precision 0.3255, Recall 0.9451, Accuracy 0.8623\n",
            "GaussianNB\n",
            "AUC 0.8283, F1 0.2983, Precision 0.1756, Recall 0.9909, Accuracy 0.6810\n",
            "XGBClassifier\n",
            "AUC 0.9481, F1 0.4983, Precision 0.3318, Recall 0.9996, Accuracy 0.8623\n",
            "LGBMClassifier\n",
            "AUC 0.9468, F1 0.5022, Precision 0.3354, Recall 0.9991, Accuracy 0.8645\n"
          ]
        }
      ]
    },
    {
      "cell_type": "code",
      "source": [
        "scores_df = pd.DataFrame(scores)\n",
        "print_scores(scores_df)\n",
        "scores_df.to_csv('result_scaled.csv', index=False)"
      ],
      "metadata": {
        "colab": {
          "base_uri": "https://localhost:8080/"
        },
        "id": "QIGmrlWXIweF",
        "outputId": "8c753dff-a987-4419-8cf1-3b4bfb0c492b"
      },
      "execution_count": null,
      "outputs": [
        {
          "output_type": "stream",
          "name": "stdout",
          "text": [
            "\\textbf{Model} & \\textbf{auc} & \\textbf{f1} & \\textbf{precision} & \\textbf{recall} & \\textbf{accuracy} \\\\ \\hline\n",
            "LogisticRegression & 0.92 & 0.462 & 0.302 & 0.988 & 0.843 \\\\ \\hline\n",
            "DecisionTreeClassifier & 0.863 & 0.47 & 0.324 & 0.858 & 0.868 \\\\ \\hline\n",
            "RandomForestClassifier & 0.929 & 0.484 & 0.326 & 0.945 & 0.862 \\\\ \\hline\n",
            "GaussianNB & 0.828 & 0.298 & 0.176 & 0.991 & 0.681 \\\\ \\hline\n",
            "XGBClassifier & 0.948 & 0.498 & 0.332 & 1.0 & 0.862 \\\\ \\hline\n",
            "LGBMClassifier & 0.947 & 0.502 & 0.335 & 0.999 & 0.864 \\\\ \\hline\n"
          ]
        }
      ]
    },
    {
      "cell_type": "markdown",
      "source": [
        "# Cross validate"
      ],
      "metadata": {
        "id": "VoOBxWYzBcN5"
      }
    },
    {
      "cell_type": "code",
      "source": [
        "x_train, x_test, y_train, y_test = train_test_split(X, Y, test_size=0.2, shuffle=True, random_state=seed)"
      ],
      "metadata": {
        "id": "F2ZrVLEwC4rE"
      },
      "execution_count": null,
      "outputs": []
    },
    {
      "cell_type": "code",
      "source": [
        "folds = 10\n",
        "kf = KFold(n_splits=folds, shuffle=True, random_state=seed)\n",
        "\n",
        "scoring = ['roc_auc', 'f1', 'precision', 'recall', 'accuracy']\n",
        "steps = [\n",
        "         ('under', RandomUnderSampler(sampling_strategy='majority', random_state=seed)),\n",
        "        ('model', RandomForestClassifier(random_state=seed))\n",
        "    ]"
      ],
      "metadata": {
        "id": "hxV-_-Zx6Skc"
      },
      "execution_count": null,
      "outputs": []
    },
    {
      "cell_type": "markdown",
      "source": [
        "## Classifier Selection"
      ],
      "metadata": {
        "id": "BE47aitODPck"
      }
    },
    {
      "cell_type": "code",
      "source": [
        "cross_validation_scores = {}\n",
        "\n",
        "for model in models:\n",
        "  model_name = model.__class__.__name__\n",
        "  print(model_name)\n",
        "  steps[-1] = ('model', model)\n",
        "\n",
        "  pipeline = Pipeline(steps=steps, verbose=True)\n",
        "  scores = cross_validate(pipeline, x_train, y_train, cv=kf, scoring=scoring, n_jobs=-1)\n",
        "\n",
        "  for key in scores.keys():\n",
        "    mean, std = scores[key].mean(), scores[key].std()\n",
        "    print(f\"{key}, mean {mean:.4f}, std {std:.4f}\")\n",
        "  \n",
        "  cross_validation_scores[model_name] = scores\n",
        "  print()"
      ],
      "metadata": {
        "colab": {
          "base_uri": "https://localhost:8080/"
        },
        "id": "Gx2PBrkf_E4K",
        "outputId": "87f2ac66-136d-46b4-adc1-aef9bb8b9f0c"
      },
      "execution_count": null,
      "outputs": [
        {
          "output_type": "stream",
          "name": "stdout",
          "text": [
            "LogisticRegression\n",
            "fit_time, mean 4.6535, std 0.6745\n",
            "score_time, mean 0.1671, std 0.0267\n",
            "test_roc_auc, mean 0.8795, std 0.0101\n",
            "test_f1, mean 0.3629, std 0.0110\n",
            "test_precision, mean 0.2233, std 0.0082\n",
            "test_recall, mean 0.9675, std 0.0091\n",
            "test_accuracy, mean 0.7696, std 0.0087\n",
            "\n",
            "DecisionTreeClassifier\n",
            "fit_time, mean 7.3283, std 0.2334\n",
            "score_time, mean 0.1996, std 0.0264\n",
            "test_roc_auc, mean 0.8632, std 0.0049\n",
            "test_f1, mean 0.4559, std 0.0069\n",
            "test_precision, mean 0.3161, std 0.0058\n",
            "test_recall, mean 0.8174, std 0.0098\n",
            "test_accuracy, mean 0.8678, std 0.0015\n",
            "\n",
            "RandomForestClassifier\n",
            "fit_time, mean 48.0036, std 0.5678\n",
            "score_time, mean 2.8381, std 0.4408\n",
            "test_roc_auc, mean 0.9292, std 0.0012\n",
            "test_f1, mean 0.4790, std 0.0066\n",
            "test_precision, mean 0.3207, std 0.0056\n",
            "test_recall, mean 0.9462, std 0.0040\n",
            "test_accuracy, mean 0.8606, std 0.0017\n",
            "\n",
            "GaussianNB\n",
            "fit_time, mean 0.7936, std 0.0189\n",
            "score_time, mean 0.2869, std 0.0171\n",
            "test_roc_auc, mean 0.6089, std 0.0123\n",
            "test_f1, mean 0.1664, std 0.0035\n",
            "test_precision, mean 0.0910, std 0.0021\n",
            "test_recall, mean 0.9793, std 0.0024\n",
            "test_accuracy, mean 0.3352, std 0.0152\n",
            "\n",
            "XGBClassifier\n",
            "fit_time, mean 26.6469, std 0.2176\n",
            "score_time, mean 0.5404, std 0.0658\n",
            "test_roc_auc, mean 0.9489, std 0.0008\n",
            "test_f1, mean 0.4918, std 0.0058\n",
            "test_precision, mean 0.3262, std 0.0051\n",
            "test_recall, mean 0.9987, std 0.0006\n",
            "test_accuracy, mean 0.8601, std 0.0015\n",
            "\n",
            "LGBMClassifier\n",
            "fit_time, mean 6.3680, std 0.1982\n",
            "score_time, mean 0.7241, std 0.0332\n",
            "test_roc_auc, mean 0.9472, std 0.0009\n",
            "test_f1, mean 0.4958, std 0.0056\n",
            "test_precision, mean 0.3298, std 0.0050\n",
            "test_recall, mean 0.9985, std 0.0006\n",
            "test_accuracy, mean 0.8624, std 0.0014\n",
            "\n"
          ]
        }
      ]
    },
    {
      "cell_type": "code",
      "source": [
        "scores = {'Metric': scoring}\n",
        "for model_name in cross_validation_scores.keys():\n",
        "  scores[model_name] = [cross_validation_scores[model_name][f'test_{score}'].mean() for score in scoring]\n",
        "\n",
        "scores_df = pd.DataFrame(scores)\n",
        "scores_df.to_csv('classifier_selection.csv', index=False)\n",
        "print_scores(scores_df)"
      ],
      "metadata": {
        "colab": {
          "base_uri": "https://localhost:8080/"
        },
        "id": "nO_3YNf3LLRV",
        "outputId": "aa31c95b-0f66-419e-a8a0-741adf3d5082"
      },
      "execution_count": null,
      "outputs": [
        {
          "output_type": "stream",
          "name": "stdout",
          "text": [
            "\\textbf{Model} & \\textbf{auc} & \\textbf{f1} & \\textbf{precision} & \\textbf{recall} & \\textbf{accuracy} \\\\ \\hline\n",
            "LogisticRegression & 0.879 & 0.363 & 0.223 & 0.968 & 0.77 \\\\ \\hline\n",
            "DecisionTreeClassifier & 0.863 & 0.456 & 0.316 & 0.817 & 0.868 \\\\ \\hline\n",
            "RandomForestClassifier & 0.929 & 0.479 & 0.321 & 0.946 & 0.861 \\\\ \\hline\n",
            "GaussianNB & 0.609 & 0.166 & 0.091 & 0.979 & 0.335 \\\\ \\hline\n",
            "XGBClassifier & 0.949 & 0.492 & 0.326 & 0.999 & 0.86 \\\\ \\hline\n",
            "LGBMClassifier & 0.947 & 0.496 & 0.33 & 0.999 & 0.862 \\\\ \\hline\n"
          ]
        }
      ]
    },
    {
      "cell_type": "markdown",
      "source": [
        "# Hyper-parameter tuning\n",
        "https://lightgbm.readthedocs.io/en/latest/pythonapi/lightgbm.LGBMClassifier.html"
      ],
      "metadata": {
        "id": "nRjMwls4DRiD"
      }
    },
    {
      "cell_type": "code",
      "source": [
        "n_estimators = [100, 500]\n",
        "depths = [None, 3, 5]\n",
        "learning_rates = [0.1, 0.05]\n",
        "\n",
        "tunings = {}\n",
        "for learning_rate in learning_rates:\n",
        "  for n_estimator in n_estimators:\n",
        "    for depth in depths:\n",
        "      print(f\"N_estimator {n_estimator}, depth {depth}, learning rate {learning_rate}\")\n",
        "      model = LGBMClassifier(max_depth=depth, n_estimators=n_estimator, learning_rate=learning_rate, random_state=seed)\n",
        "      \n",
        "      steps[-1] = ('model', model)\n",
        "\n",
        "      pipeline = Pipeline(steps=steps, verbose=True)\n",
        "      scores = cross_validate(pipeline, x_train, y_train, cv=kf, scoring=scoring, n_jobs=-1)\n",
        "      tunings[f'{learning_rate} & {n_estimator} & {depth}'] = scores\n",
        "\n",
        "      for key in scores.keys():\n",
        "        mean, std = scores[key].mean(), scores[key].std()\n",
        "        print(f\"{key}, mean {mean:.4f}, std {std:.4f}\")\n",
        "      print()"
      ],
      "metadata": {
        "colab": {
          "base_uri": "https://localhost:8080/"
        },
        "id": "H85MlWNxB5Qd",
        "outputId": "3f8e7ceb-99b1-4957-f177-51b91b6328ac"
      },
      "execution_count": null,
      "outputs": [
        {
          "output_type": "stream",
          "name": "stdout",
          "text": [
            "N_estimator 100, depth None, learning rate 0.1\n",
            "fit_time, mean 6.4752, std 0.0843\n",
            "score_time, mean 0.7583, std 0.0258\n",
            "test_roc_auc, mean 0.9472, std 0.0009\n",
            "test_f1, mean 0.4958, std 0.0056\n",
            "test_precision, mean 0.3298, std 0.0050\n",
            "test_recall, mean 0.9985, std 0.0006\n",
            "test_accuracy, mean 0.8624, std 0.0014\n",
            "\n",
            "N_estimator 100, depth 3, learning rate 0.1\n",
            "fit_time, mean 4.2025, std 0.1031\n",
            "score_time, mean 0.6777, std 0.0421\n",
            "test_roc_auc, mean 0.9488, std 0.0007\n",
            "test_f1, mean 0.4916, std 0.0057\n",
            "test_precision, mean 0.3261, std 0.0050\n",
            "test_recall, mean 0.9987, std 0.0007\n",
            "test_accuracy, mean 0.8600, std 0.0015\n",
            "\n",
            "N_estimator 100, depth 5, learning rate 0.1\n",
            "fit_time, mean 5.2266, std 0.1202\n",
            "score_time, mean 0.8213, std 0.0248\n",
            "test_roc_auc, mean 0.9493, std 0.0006\n",
            "test_f1, mean 0.4945, std 0.0059\n",
            "test_precision, mean 0.3286, std 0.0052\n",
            "test_recall, mean 0.9987, std 0.0005\n",
            "test_accuracy, mean 0.8616, std 0.0016\n",
            "\n",
            "N_estimator 500, depth None, learning rate 0.1\n",
            "fit_time, mean 21.7628, std 0.3730\n",
            "score_time, mean 4.0404, std 0.3495\n",
            "test_roc_auc, mean 0.9400, std 0.0013\n",
            "test_f1, mean 0.4926, std 0.0067\n",
            "test_precision, mean 0.3283, std 0.0057\n",
            "test_recall, mean 0.9862, std 0.0021\n",
            "test_accuracy, mean 0.8624, std 0.0017\n",
            "\n",
            "N_estimator 500, depth 3, learning rate 0.1\n",
            "fit_time, mean 13.5028, std 0.2345\n",
            "score_time, mean 2.3067, std 0.0873\n",
            "test_roc_auc, mean 0.9480, std 0.0008\n",
            "test_f1, mean 0.4960, std 0.0059\n",
            "test_precision, mean 0.3300, std 0.0052\n",
            "test_recall, mean 0.9986, std 0.0006\n",
            "test_accuracy, mean 0.8625, std 0.0016\n",
            "\n",
            "N_estimator 500, depth 5, learning rate 0.1\n",
            "fit_time, mean 18.1918, std 0.2963\n",
            "score_time, mean 3.7110, std 0.2061\n",
            "test_roc_auc, mean 0.9438, std 0.0010\n",
            "test_f1, mean 0.4956, std 0.0060\n",
            "test_precision, mean 0.3300, std 0.0053\n",
            "test_recall, mean 0.9950, std 0.0012\n",
            "test_accuracy, mean 0.8628, std 0.0016\n",
            "\n",
            "N_estimator 100, depth None, learning rate 0.05\n",
            "fit_time, mean 6.9215, std 0.0988\n",
            "score_time, mean 0.7401, std 0.0301\n",
            "test_roc_auc, mean 0.9491, std 0.0008\n",
            "test_f1, mean 0.4958, std 0.0059\n",
            "test_precision, mean 0.3298, std 0.0052\n",
            "test_recall, mean 0.9990, std 0.0003\n",
            "test_accuracy, mean 0.8624, std 0.0015\n",
            "\n",
            "N_estimator 100, depth 3, learning rate 0.05\n",
            "fit_time, mean 4.2050, std 0.1149\n",
            "score_time, mean 0.6365, std 0.0276\n",
            "test_roc_auc, mean 0.9459, std 0.0008\n",
            "test_f1, mean 0.4773, std 0.0051\n",
            "test_precision, mean 0.3136, std 0.0044\n",
            "test_recall, mean 0.9981, std 0.0014\n",
            "test_accuracy, mean 0.8519, std 0.0021\n",
            "\n",
            "N_estimator 100, depth 5, learning rate 0.05\n",
            "fit_time, mean 5.3319, std 0.1254\n",
            "score_time, mean 0.7656, std 0.0529\n",
            "test_roc_auc, mean 0.9487, std 0.0007\n",
            "test_f1, mean 0.4899, std 0.0055\n",
            "test_precision, mean 0.3245, std 0.0049\n",
            "test_recall, mean 0.9992, std 0.0005\n",
            "test_accuracy, mean 0.8590, std 0.0015\n",
            "\n",
            "N_estimator 500, depth None, learning rate 0.05\n",
            "fit_time, mean 22.5534, std 0.1608\n",
            "score_time, mean 3.9502, std 0.1564\n",
            "test_roc_auc, mean 0.9439, std 0.0010\n",
            "test_f1, mean 0.4959, std 0.0059\n",
            "test_precision, mean 0.3301, std 0.0052\n",
            "test_recall, mean 0.9960, std 0.0011\n",
            "test_accuracy, mean 0.8628, std 0.0016\n",
            "\n",
            "N_estimator 500, depth 3, learning rate 0.05\n",
            "fit_time, mean 13.5081, std 0.1816\n",
            "score_time, mean 2.3345, std 0.0477\n",
            "test_roc_auc, mean 0.9492, std 0.0007\n",
            "test_f1, mean 0.4952, std 0.0059\n",
            "test_precision, mean 0.3292, std 0.0052\n",
            "test_recall, mean 0.9992, std 0.0004\n",
            "test_accuracy, mean 0.8620, std 0.0015\n",
            "\n",
            "N_estimator 500, depth 5, learning rate 0.05\n",
            "fit_time, mean 18.4586, std 0.2048\n",
            "score_time, mean 3.8024, std 0.1944\n",
            "test_roc_auc, mean 0.9473, std 0.0009\n",
            "test_f1, mean 0.4960, std 0.0059\n",
            "test_precision, mean 0.3300, std 0.0052\n",
            "test_recall, mean 0.9983, std 0.0007\n",
            "test_accuracy, mean 0.8626, std 0.0015\n",
            "\n"
          ]
        }
      ]
    },
    {
      "cell_type": "code",
      "source": [
        "print(' & '.join(['learning_rate', 'n_estimator', 'depth'] + ['accuracy', 'roc_auc', 'f1', 'precision', 'recall']))\n",
        "for key in tunings.keys():\n",
        "  scores = tunings[key]\n",
        "  result_array = []\n",
        "  for score in ['accuracy', 'roc_auc', 'f1', 'precision', 'recall']:\n",
        "    result_array.append(str(np.round(scores[f'test_{score}'].mean(), 3)))\n",
        "\n",
        "  result_string = ' & '.join(result_array)\n",
        "  print(f'{key} & {result_string}  \\\\\\\\ \\hline')"
      ],
      "metadata": {
        "colab": {
          "base_uri": "https://localhost:8080/"
        },
        "id": "eU-7NQpG6iD0",
        "outputId": "89021dc5-a23c-4ff4-a8c1-a6c941c7dd9c"
      },
      "execution_count": null,
      "outputs": [
        {
          "output_type": "stream",
          "name": "stdout",
          "text": [
            "learning_rate & n_estimator & depth & accuracy & roc_auc & f1 & precision & recall\n",
            "0.1 & 100 & None & 0.862 & 0.947 & 0.496 & 0.33 & 0.999  \\\\ \\hline\n",
            "0.1 & 100 & 3 & 0.86 & 0.949 & 0.492 & 0.326 & 0.999  \\\\ \\hline\n",
            "0.1 & 100 & 5 & 0.862 & 0.949 & 0.494 & 0.329 & 0.999  \\\\ \\hline\n",
            "0.1 & 500 & None & 0.862 & 0.94 & 0.493 & 0.328 & 0.986  \\\\ \\hline\n",
            "0.1 & 500 & 3 & 0.863 & 0.948 & 0.496 & 0.33 & 0.999  \\\\ \\hline\n",
            "0.1 & 500 & 5 & 0.863 & 0.944 & 0.496 & 0.33 & 0.995  \\\\ \\hline\n",
            "0.05 & 100 & None & 0.862 & 0.949 & 0.496 & 0.33 & 0.999  \\\\ \\hline\n",
            "0.05 & 100 & 3 & 0.852 & 0.946 & 0.477 & 0.314 & 0.998  \\\\ \\hline\n",
            "0.05 & 100 & 5 & 0.859 & 0.949 & 0.49 & 0.325 & 0.999  \\\\ \\hline\n",
            "0.05 & 500 & None & 0.863 & 0.944 & 0.496 & 0.33 & 0.996  \\\\ \\hline\n",
            "0.05 & 500 & 3 & 0.862 & 0.949 & 0.495 & 0.329 & 0.999  \\\\ \\hline\n",
            "0.05 & 500 & 5 & 0.863 & 0.947 & 0.496 & 0.33 & 0.998  \\\\ \\hline\n"
          ]
        }
      ]
    },
    {
      "cell_type": "markdown",
      "source": [
        "# Test Results"
      ],
      "metadata": {
        "id": "aLrUSNh9Qjpt"
      }
    },
    {
      "cell_type": "code",
      "source": [
        "steps[-1] = ('model', LGBMClassifier(max_depth=None, n_estimators=100, learning_rate=0.05, random_state=seed))\n",
        "pipeline = Pipeline(steps=steps, verbose=True)\n",
        "cross_validatation_scores = cross_validate(pipeline, x_train, y_train, cv=kf, scoring=scoring, n_jobs=-1, return_estimator=True)"
      ],
      "metadata": {
        "id": "OQ8cGe7PgfCL"
      },
      "execution_count": null,
      "outputs": []
    },
    {
      "cell_type": "code",
      "source": [
        "scores = {'Metric': scoring}\n",
        "for run, pipeline in enumerate(cross_validatation_scores['estimator']):\n",
        "  model = pipeline['model']\n",
        "  y_prob = model.predict_proba(x_test)[:, -1]\n",
        "  scores[run] = result(y_test, y_prob)"
      ],
      "metadata": {
        "colab": {
          "base_uri": "https://localhost:8080/"
        },
        "id": "CQACTT7BQmFs",
        "outputId": "04ca835f-31ba-4b88-867b-c338fd820ace"
      },
      "execution_count": null,
      "outputs": [
        {
          "output_type": "stream",
          "name": "stdout",
          "text": [
            "AUC 0.9482, F1 0.5020, Precision 0.3352, Recall 0.9989, Accuracy 0.8644\n",
            "AUC 0.9483, F1 0.5018, Precision 0.3351, Recall 0.9991, Accuracy 0.8643\n",
            "AUC 0.9484, F1 0.5020, Precision 0.3353, Recall 0.9988, Accuracy 0.8644\n",
            "AUC 0.9484, F1 0.5023, Precision 0.3354, Recall 0.9995, Accuracy 0.8645\n",
            "AUC 0.9485, F1 0.5018, Precision 0.3351, Recall 0.9987, Accuracy 0.8643\n",
            "AUC 0.9479, F1 0.5019, Precision 0.3351, Recall 0.9991, Accuracy 0.8643\n",
            "AUC 0.9483, F1 0.5026, Precision 0.3358, Recall 0.9991, Accuracy 0.8648\n",
            "AUC 0.9481, F1 0.5022, Precision 0.3354, Recall 0.9991, Accuracy 0.8645\n",
            "AUC 0.9480, F1 0.5024, Precision 0.3356, Recall 0.9987, Accuracy 0.8647\n",
            "AUC 0.9483, F1 0.5022, Precision 0.3354, Recall 0.9986, Accuracy 0.8646\n"
          ]
        }
      ]
    },
    {
      "cell_type": "code",
      "source": [
        "scores_df = pd.DataFrame(scores)\n",
        "scores_df.to_csv('result_test.csv', index=False)\n",
        "print_scores(scores_df)"
      ],
      "metadata": {
        "colab": {
          "base_uri": "https://localhost:8080/"
        },
        "id": "wWT77IcmRlZl",
        "outputId": "aea9cd58-e4fc-47d0-d066-c23c9350e465"
      },
      "execution_count": null,
      "outputs": [
        {
          "output_type": "stream",
          "name": "stdout",
          "text": [
            "\\textbf{Model} & \\textbf{auc} & \\textbf{f1} & \\textbf{precision} & \\textbf{recall} & \\textbf{accuracy} \\\\ \\hline\n",
            "0 & 0.948 & 0.502 & 0.335 & 0.999 & 0.864 \\\\ \\hline\n",
            "1 & 0.948 & 0.502 & 0.335 & 0.999 & 0.864 \\\\ \\hline\n",
            "2 & 0.948 & 0.502 & 0.335 & 0.999 & 0.864 \\\\ \\hline\n",
            "3 & 0.948 & 0.502 & 0.335 & 0.999 & 0.865 \\\\ \\hline\n",
            "4 & 0.949 & 0.502 & 0.335 & 0.999 & 0.864 \\\\ \\hline\n",
            "5 & 0.948 & 0.502 & 0.335 & 0.999 & 0.864 \\\\ \\hline\n",
            "6 & 0.948 & 0.503 & 0.336 & 0.999 & 0.865 \\\\ \\hline\n",
            "7 & 0.948 & 0.502 & 0.335 & 0.999 & 0.865 \\\\ \\hline\n",
            "8 & 0.948 & 0.502 & 0.336 & 0.999 & 0.865 \\\\ \\hline\n",
            "9 & 0.948 & 0.502 & 0.335 & 0.999 & 0.865 \\\\ \\hline\n"
          ]
        }
      ]
    },
    {
      "cell_type": "code",
      "source": [
        "mean_df = scores_df[[col for col in scores_df.columns if col!='Metric']].mean(axis=1).reset_index(drop=True)\n",
        "mean_df.index = scoring"
      ],
      "metadata": {
        "id": "OxuFZsE8bc5b"
      },
      "execution_count": null,
      "outputs": []
    },
    {
      "cell_type": "code",
      "source": [
        "mean_df"
      ],
      "metadata": {
        "colab": {
          "base_uri": "https://localhost:8080/"
        },
        "id": "gESLApYac3qz",
        "outputId": "4726f056-4a61-4619-9ee3-f201ac362382"
      },
      "execution_count": null,
      "outputs": [
        {
          "output_type": "execute_result",
          "data": {
            "text/plain": [
              "roc_auc      0.948241\n",
              "f1           0.502109\n",
              "precision    0.335329\n",
              "recall       0.998947\n",
              "accuracy     0.864478\n",
              "dtype: float64"
            ]
          },
          "metadata": {},
          "execution_count": 383
        }
      ]
    },
    {
      "cell_type": "code",
      "source": [
        "ax = mean_df.plot(kind='bar', rot=0, figsize=(12, 6), fontsize=12)\n",
        "ax.set_xlabel('Metrics', fontsize=12)\n",
        "ax.set_ylabel('Score', fontsize=12)\n",
        "plt.savefig('test-result.pdf', dpi=600)"
      ],
      "metadata": {
        "colab": {
          "base_uri": "https://localhost:8080/",
          "height": 397
        },
        "id": "rtq50LJybQPt",
        "outputId": "aac3778c-8865-4b35-e85f-7a1350174a4d"
      },
      "execution_count": null,
      "outputs": [
        {
          "output_type": "display_data",
          "data": {
            "text/plain": [
              "<Figure size 864x432 with 1 Axes>"
            ],
            "image/png": "[encoded data removed]"
          },
          "metadata": {}
        }
      ]
    },
    {
      "cell_type": "markdown",
      "source": [
        "# Feature Importance"
      ],
      "metadata": {
        "id": "zVlOyflkEVmT"
      }
    },
    {
      "cell_type": "code",
      "source": [
        "feature_importances = []\n",
        "for pipeline in cross_validatation_scores['estimator']:\n",
        "  model = pipeline['model']\n",
        "  feature_importances.append(model.feature_importances_)"
      ],
      "metadata": {
        "id": "J_bxGhMg7l20"
      },
      "execution_count": null,
      "outputs": []
    },
    {
      "cell_type": "code",
      "source": [
        "feature_importance = np.mean(feature_importances, axis=0)\n",
        "feature_importance_df = pd.DataFrame({'Feature': x_train.columns, 'Importance': feature_importance})\n",
        "feature_importance_df['Importance'] = feature_importance_df['Importance'] * 100 / feature_importance_df['Importance'].sum()\n",
        "feature_importance_df = feature_importance_df.sort_values(by='Importance', ascending=False).reset_index(drop=True)\n",
        "feature_importance_df.head(10)"
      ],
      "metadata": {
        "id": "2o92avIa-x3K",
        "colab": {
          "base_uri": "https://localhost:8080/",
          "height": 363
        },
        "outputId": "32ed9f74-1e1a-44e2-c370-538a90b223ec"
      },
      "execution_count": null,
      "outputs": [
        {
          "output_type": "execute_result",
          "data": {
            "text/plain": [
              "                 Feature  Importance\n",
              "0   bwd_init_window_size    7.183333\n",
              "1   fwd_pkts_payload.max    4.700000\n",
              "2            bwd_iat.min    3.930000\n",
              "3            fwd_iat.min    3.810000\n",
              "4      fwd_subflow_bytes    3.113333\n",
              "5   fwd_pkts_payload.tot    3.103333\n",
              "6   fwd_pkts_payload.min    2.870000\n",
              "7          bwd_bulk_rate    2.866667\n",
              "8  flow_pkts_payload.avg    2.793333\n",
              "9          down_up_ratio    2.493333"
            ],
            "text/html": [
              "\n",
              "  <div id=\"df-e9fea434-d95b-4d8e-8b4f-3de577773798\">\n",
              "    <div class=\"colab-df-container\">\n",
              "      <div>\n",
              "<style scoped>\n",
              "    .dataframe tbody tr th:only-of-type {\n",
              "        vertical-align: middle;\n",
              "    }\n",
              "\n",
              "    .dataframe tbody tr th {\n",
              "        vertical-align: top;\n",
              "    }\n",
              "\n",
              "    .dataframe thead th {\n",
              "        text-align: right;\n",
              "    }\n",
              "</style>\n",
              "<table border=\"1\" class=\"dataframe\">\n",
              "  <thead>\n",
              "    <tr style=\"text-align: right;\">\n",
              "      <th></th>\n",
              "      <th>Feature</th>\n",
              "      <th>Importance</th>\n",
              "    </tr>\n",
              "  </thead>\n",
              "  <tbody>\n",
              "    <tr>\n",
              "      <th>0</th>\n",
              "      <td>bwd_init_window_size</td>\n",
              "      <td>7.183333</td>\n",
              "    </tr>\n",
              "    <tr>\n",
              "      <th>1</th>\n",
              "      <td>fwd_pkts_payload.max</td>\n",
              "      <td>4.700000</td>\n",
              "    </tr>\n",
              "    <tr>\n",
              "      <th>2</th>\n",
              "      <td>bwd_iat.min</td>\n",
              "      <td>3.930000</td>\n",
              "    </tr>\n",
              "    <tr>\n",
              "      <th>3</th>\n",
              "      <td>fwd_iat.min</td>\n",
              "      <td>3.810000</td>\n",
              "    </tr>\n",
              "    <tr>\n",
              "      <th>4</th>\n",
              "      <td>fwd_subflow_bytes</td>\n",
              "      <td>3.113333</td>\n",
              "    </tr>\n",
              "    <tr>\n",
              "      <th>5</th>\n",
              "      <td>fwd_pkts_payload.tot</td>\n",
              "      <td>3.103333</td>\n",
              "    </tr>\n",
              "    <tr>\n",
              "      <th>6</th>\n",
              "      <td>fwd_pkts_payload.min</td>\n",
              "      <td>2.870000</td>\n",
              "    </tr>\n",
              "    <tr>\n",
              "      <th>7</th>\n",
              "      <td>bwd_bulk_rate</td>\n",
              "      <td>2.866667</td>\n",
              "    </tr>\n",
              "    <tr>\n",
              "      <th>8</th>\n",
              "      <td>flow_pkts_payload.avg</td>\n",
              "      <td>2.793333</td>\n",
              "    </tr>\n",
              "    <tr>\n",
              "      <th>9</th>\n",
              "      <td>down_up_ratio</td>\n",
              "      <td>2.493333</td>\n",
              "    </tr>\n",
              "  </tbody>\n",
              "</table>\n",
              "</div>\n",
              "      <button class=\"colab-df-convert\" onclick=\"convertToInteractive('df-e9fea434-d95b-4d8e-8b4f-3de577773798')\"\n",
              "              title=\"Convert this dataframe to an interactive table.\"\n",
              "              style=\"display:none;\">\n",
              "        \n",
              "  <svg xmlns=\"http://www.w3.org/2000/svg\" height=\"24px\"viewBox=\"0 0 24 24\"\n",
              "       width=\"24px\">\n",
              "    <path d=\"M0 0h24v24H0V0z\" fill=\"none\"/>\n",
              "    <path d=\"M18.56 5.44l.94 2.06.94-2.06 2.06-.94-2.06-.94-.94-2.06-.94 2.06-2.06.94zm-11 1L8.5 8.5l.94-2.06 2.06-.94-2.06-.94L8.5 2.5l-.94 2.06-2.06.94zm10 10l.94 2.06.94-2.06 2.06-.94-2.06-.94-.94-2.06-.94 2.06-2.06.94z\"/><path d=\"M17.41 7.96l-1.37-1.37c-.4-.4-.92-.59-1.43-.59-.52 0-1.04.2-1.43.59L10.3 9.45l-7.72 7.72c-.78.78-.78 2.05 0 2.83L4 21.41c.39.39.9.59 1.41.59.51 0 1.02-.2 1.41-.59l7.78-7.78 2.81-2.81c.8-.78.8-2.07 0-2.86zM5.41 20L4 18.59l7.72-7.72 1.47 1.35L5.41 20z\"/>\n",
              "  </svg>\n",
              "      </button>\n",
              "      \n",
              "  <style>\n",
              "    .colab-df-container {\n",
              "      display:flex;\n",
              "      flex-wrap:wrap;\n",
              "      gap: 12px;\n",
              "    }\n",
              "\n",
              "    .colab-df-convert {\n",
              "      background-color: #E8F0FE;\n",
              "      border: none;\n",
              "      border-radius: 50%;\n",
              "      cursor: pointer;\n",
              "      display: none;\n",
              "      fill: #1967D2;\n",
              "      height: 32px;\n",
              "      padding: 0 0 0 0;\n",
              "      width: 32px;\n",
              "    }\n",
              "\n",
              "    .colab-df-convert:hover {\n",
              "      background-color: #E2EBFA;\n",
              "      box-shadow: 0px 1px 2px rgba(60, 64, 67, 0.3), 0px 1px 3px 1px rgba(60, 64, 67, 0.15);\n",
              "      fill: #174EA6;\n",
              "    }\n",
              "\n",
              "    [theme=dark] .colab-df-convert {\n",
              "      background-color: #3B4455;\n",
              "      fill: #D2E3FC;\n",
              "    }\n",
              "\n",
              "    [theme=dark] .colab-df-convert:hover {\n",
              "      background-color: #434B5C;\n",
              "      box-shadow: 0px 1px 3px 1px rgba(0, 0, 0, 0.15);\n",
              "      filter: drop-shadow(0px 1px 2px rgba(0, 0, 0, 0.3));\n",
              "      fill: #FFFFFF;\n",
              "    }\n",
              "  </style>\n",
              "\n",
              "      <script>\n",
              "        const buttonEl =\n",
              "          document.querySelector('#df-e9fea434-d95b-4d8e-8b4f-3de577773798 button.colab-df-convert');\n",
              "        buttonEl.style.display =\n",
              "          google.colab.kernel.accessAllowed ? 'block' : 'none';\n",
              "\n",
              "        async function convertToInteractive(key) {\n",
              "          const element = document.querySelector('#df-e9fea434-d95b-4d8e-8b4f-3de577773798');\n",
              "          const dataTable =\n",
              "            await google.colab.kernel.invokeFunction('convertToInteractive',\n",
              "                                                     [key], {});\n",
              "          if (!dataTable) return;\n",
              "\n",
              "          const docLinkHtml = 'Like what you see? Visit the ' +\n",
              "            '<a target=\"_blank\" href=https://colab.research.google.com/notebooks/data_table.ipynb>data table notebook</a>'\n",
              "            + ' to learn more about interactive tables.';\n",
              "          element.innerHTML = '';\n",
              "          dataTable['output_type'] = 'display_data';\n",
              "          await google.colab.output.renderOutput(dataTable, element);\n",
              "          const docLink = document.createElement('div');\n",
              "          docLink.innerHTML = docLinkHtml;\n",
              "          element.appendChild(docLink);\n",
              "        }\n",
              "      </script>\n",
              "    </div>\n",
              "  </div>\n",
              "  "
            ]
          },
          "metadata": {},
          "execution_count": 20
        }
      ]
    },
    {
      "cell_type": "code",
      "source": [
        "# feature_importance_df.set_index('Feature', inplace=True)\n",
        "fontsize = 16\n",
        "ax = feature_importance_df.iloc[:10, :].plot(kind='bar', figsize=(24, 8), fontsize=fontsize)\n",
        "ax.set_xlabel('Feature name', fontsize=fontsize)\n",
        "ax.set_ylabel('Importance score (%)', fontsize=fontsize)\n",
        "plt.savefig('feature-importance.png', dpi=600)"
      ],
      "metadata": {
        "colab": {
          "base_uri": "https://localhost:8080/",
          "height": 695
        },
        "id": "iPK7AvCNyzMO",
        "outputId": "8ada3bb9-195d-41aa-9cdb-6987ef5a5dab"
      },
      "execution_count": null,
      "outputs": [
        {
          "output_type": "display_data",
          "data": {
            "text/plain": [
              "<Figure size 1728x576 with 1 Axes>"
            ],
            "image/png": "[encoded data removed]"
          },
          "metadata": {
            "needs_background": "light"
          }
        }
      ]
    },
    {
      "cell_type": "markdown",
      "source": [
        "# ROC-AUC Curve"
      ],
      "metadata": {
        "id": "sPfaHdTokrmo"
      }
    },
    {
      "cell_type": "code",
      "source": [
        "from IPython.core.pylabtools import figsize\n",
        "def plot_roc_auc(y_true, y_prob):\n",
        "    fpr, tpr, thresholds = roc_curve(y_true, y_prob)\n",
        "    # calculate the g-mean for each threshold\n",
        "    gmeans = np.sqrt(tpr * (1-fpr))\n",
        "    # locate the index of the largest g-mean\n",
        "    ix = np.argmax(gmeans)\n",
        "    print('Best Threshold=%f, G-Mean=%.3f' % (thresholds[ix], gmeans[ix]))\n",
        "    roc_auc = roc_auc_score(y_true, y_prob)\n",
        "    plt.figure(figsize=(12, 8))\n",
        "    plt.plot(fpr, tpr, color='darkorange',\n",
        "             lw=2, label='ROC curve (area = %0.2f)' % roc_auc)\n",
        "    plt.plot([0, 1], [0, 1], color='navy', lw=2, linestyle='--')\n",
        "    plt.xlim([0.0, 1.0])\n",
        "    plt.ylim([0.0, 1.05])\n",
        "    plt.xlabel('False Positive Rate', fontsize=16)\n",
        "    plt.ylabel('True Positive Rate', fontsize=16)\n",
        "    plt.title('ROC Curve')\n",
        "    plt.legend(loc=\"lower right\")\n",
        "    plt.savefig('roc-auc-curve.pdf', dpi=600)\n",
        "    plt.show()\n",
        "    return thresholds[ix]"
      ],
      "metadata": {
        "id": "eYQNLOTXkt2v"
      },
      "execution_count": null,
      "outputs": []
    },
    {
      "cell_type": "code",
      "source": [
        "y_probs = []\n",
        "for run, pipeline in enumerate(cross_validatation_scores['estimator']):\n",
        "  model = pipeline['model']\n",
        "  y_prob = model.predict_proba(x_test)[:, -1]\n",
        "  y_probs.append(y_prob)"
      ],
      "metadata": {
        "id": "-xcbE_l-eQO6"
      },
      "execution_count": null,
      "outputs": []
    },
    {
      "cell_type": "code",
      "source": [
        "y_prob_mean = np.mean(y_probs, axis=0)"
      ],
      "metadata": {
        "id": "1VyirhD4ejga"
      },
      "execution_count": null,
      "outputs": []
    },
    {
      "cell_type": "code",
      "source": [
        "plt.rcParams.update({'font.size': 16})\n",
        "best_threshold = plot_roc_auc(y_test, y_prob_mean)"
      ],
      "metadata": {
        "colab": {
          "base_uri": "https://localhost:8080/",
          "height": 546
        },
        "id": "AfajesT0enij",
        "outputId": "11fd8b58-a7f7-4059-fa07-d024105b0b73"
      },
      "execution_count": null,
      "outputs": [
        {
          "output_type": "stream",
          "name": "stdout",
          "text": [
            "Best Threshold=0.457360, G-Mean=0.924\n"
          ]
        },
        {
          "output_type": "display_data",
          "data": {
            "text/plain": [
              "<Figure size 864x576 with 1 Axes>"
            ],
            "image/png": "[encoded data removed]"
          },
          "metadata": {}
        }
      ]
    },
    {
      "cell_type": "code",
      "source": [
        "result(y_test, y_prob_mean, threshold=best_threshold)"
      ],
      "metadata": {
        "colab": {
          "base_uri": "https://localhost:8080/"
        },
        "id": "WcQd549vfXWi",
        "outputId": "3473558f-324e-4aef-86e3-24ba85e02573"
      },
      "execution_count": null,
      "outputs": [
        {
          "output_type": "stream",
          "name": "stdout",
          "text": [
            "AUC 0.9483, F1 0.5024, Precision 0.3356, Recall 0.9995, Accuracy 0.8646\n"
          ]
        },
        {
          "output_type": "execute_result",
          "data": {
            "text/plain": [
              "(0.9483494279584965,\n",
              " 0.5024317617866005,\n",
              " 0.335557716103942,\n",
              " 0.9994734763722523,\n",
              " 0.8645818325889641)"
            ]
          },
          "metadata": {},
          "execution_count": 433
        }
      ]
    },
    {
      "cell_type": "code",
      "source": [
        "scores = []\n",
        "for threshold in range(1, 91):\n",
        "  scores.append(result(y_test, y_prob_mean, threshold=threshold*0.01, verbose=False))"
      ],
      "metadata": {
        "colab": {
          "base_uri": "https://localhost:8080/"
        },
        "id": "Arwc5PFLkSpc",
        "outputId": "d1b8ce36-76e0-446b-e64a-0048dfb75acd"
      },
      "execution_count": null,
      "outputs": [
        {
          "output_type": "stream",
          "name": "stderr",
          "text": [
            "/usr/local/lib/python3.7/dist-packages/sklearn/metrics/_classification.py:1318: UndefinedMetricWarning: Precision is ill-defined and being set to 0.0 due to no predicted samples. Use `zero_division` parameter to control this behavior.\n",
            "  _warn_prf(average, modifier, msg_start, len(result))\n",
            "/usr/local/lib/python3.7/dist-packages/sklearn/metrics/_classification.py:1318: UndefinedMetricWarning: Precision is ill-defined and being set to 0.0 due to no predicted samples. Use `zero_division` parameter to control this behavior.\n",
            "  _warn_prf(average, modifier, msg_start, len(result))\n",
            "/usr/local/lib/python3.7/dist-packages/sklearn/metrics/_classification.py:1318: UndefinedMetricWarning: Precision is ill-defined and being set to 0.0 due to no predicted samples. Use `zero_division` parameter to control this behavior.\n",
            "  _warn_prf(average, modifier, msg_start, len(result))\n",
            "/usr/local/lib/python3.7/dist-packages/sklearn/metrics/_classification.py:1318: UndefinedMetricWarning: Precision is ill-defined and being set to 0.0 due to no predicted samples. Use `zero_division` parameter to control this behavior.\n",
            "  _warn_prf(average, modifier, msg_start, len(result))\n"
          ]
        }
      ]
    },
    {
      "cell_type": "code",
      "source": [
        "scores_df = pd.DataFrame(scores)\n",
        "scores_df.columns = scoring"
      ],
      "metadata": {
        "id": "iOWFpv9HlPgJ"
      },
      "execution_count": null,
      "outputs": []
    },
    {
      "cell_type": "code",
      "source": [
        "scores_df.to_csv('threshold.csv', index=False)"
      ],
      "metadata": {
        "id": "pdSeOPIOl-_p"
      },
      "execution_count": null,
      "outputs": []
    },
    {
      "cell_type": "code",
      "source": [
        "scores_df = pd.read_csv('threshold.csv')"
      ],
      "metadata": {
        "id": "t78XVkcx_9EG"
      },
      "execution_count": null,
      "outputs": []
    },
    {
      "cell_type": "code",
      "source": [
        "scores_df['threshold'] = scores_df.index * 0.01"
      ],
      "metadata": {
        "id": "CsavNsxm_wBV"
      },
      "execution_count": null,
      "outputs": []
    },
    {
      "cell_type": "code",
      "source": [
        "scores_df = scores_df.set_index('threshold')"
      ],
      "metadata": {
        "id": "UckpDPuk_3BG"
      },
      "execution_count": null,
      "outputs": []
    },
    {
      "cell_type": "code",
      "source": [
        "fontsize = 16\n",
        "ax = scores_df.plot(kind='line', rot=0, figsize=(16, 8), fontsize=fontsize)\n",
        "plt.plot([0.82, 0.82], [0, 1.01], marker = 'o')\n",
        "ax.set_xlabel('Prediction Threshold', fontsize=fontsize)\n",
        "ax.set_ylabel('Score', fontsize=fontsize)\n",
        "ax.legend(loc='lower left', fontsize=fontsize)\n",
        "plt.savefig('threshold.pdf', dpi=600)"
      ],
      "metadata": {
        "colab": {
          "base_uri": "https://localhost:8080/",
          "height": 509
        },
        "id": "WfxMhSJQlbuN",
        "outputId": "733496ea-d9d6-4206-ee10-4be79b083b40"
      },
      "execution_count": null,
      "outputs": [
        {
          "output_type": "display_data",
          "data": {
            "text/plain": [
              "<Figure size 1152x576 with 1 Axes>"
            ],
            "image/png": "[encoded data removed]"
          },
          "metadata": {}
        }
      ]
    },
    {
      "cell_type": "code",
      "source": [
        "scores_df[scores_df['f1']==scores_df['f1'].max()]"
      ],
      "metadata": {
        "colab": {
          "base_uri": "https://localhost:8080/",
          "height": 81
        },
        "id": "YX0-tdpvmj58",
        "outputId": "aefb0749-0128-4ee9-d678-f49115a2fa4b"
      },
      "execution_count": null,
      "outputs": [
        {
          "output_type": "execute_result",
          "data": {
            "text/plain": [
              "     roc_auc        f1  precision    recall  accuracy\n",
              "82  0.948349  0.524911   0.424112  0.688561  0.914737"
            ],
            "text/html": [
              "\n",
              "  <div id=\"df-222c0021-f5e9-4c92-8d54-b55031c23b10\">\n",
              "    <div class=\"colab-df-container\">\n",
              "      <div>\n",
              "<style scoped>\n",
              "    .dataframe tbody tr th:only-of-type {\n",
              "        vertical-align: middle;\n",
              "    }\n",
              "\n",
              "    .dataframe tbody tr th {\n",
              "        vertical-align: top;\n",
              "    }\n",
              "\n",
              "    .dataframe thead th {\n",
              "        text-align: right;\n",
              "    }\n",
              "</style>\n",
              "<table border=\"1\" class=\"dataframe\">\n",
              "  <thead>\n",
              "    <tr style=\"text-align: right;\">\n",
              "      <th></th>\n",
              "      <th>roc_auc</th>\n",
              "      <th>f1</th>\n",
              "      <th>precision</th>\n",
              "      <th>recall</th>\n",
              "      <th>accuracy</th>\n",
              "    </tr>\n",
              "  </thead>\n",
              "  <tbody>\n",
              "    <tr>\n",
              "      <th>82</th>\n",
              "      <td>0.948349</td>\n",
              "      <td>0.524911</td>\n",
              "      <td>0.424112</td>\n",
              "      <td>0.688561</td>\n",
              "      <td>0.914737</td>\n",
              "    </tr>\n",
              "  </tbody>\n",
              "</table>\n",
              "</div>\n",
              "      <button class=\"colab-df-convert\" onclick=\"convertToInteractive('df-222c0021-f5e9-4c92-8d54-b55031c23b10')\"\n",
              "              title=\"Convert this dataframe to an interactive table.\"\n",
              "              style=\"display:none;\">\n",
              "        \n",
              "  <svg xmlns=\"http://www.w3.org/2000/svg\" height=\"24px\"viewBox=\"0 0 24 24\"\n",
              "       width=\"24px\">\n",
              "    <path d=\"M0 0h24v24H0V0z\" fill=\"none\"/>\n",
              "    <path d=\"M18.56 5.44l.94 2.06.94-2.06 2.06-.94-2.06-.94-.94-2.06-.94 2.06-2.06.94zm-11 1L8.5 8.5l.94-2.06 2.06-.94-2.06-.94L8.5 2.5l-.94 2.06-2.06.94zm10 10l.94 2.06.94-2.06 2.06-.94-2.06-.94-.94-2.06-.94 2.06-2.06.94z\"/><path d=\"M17.41 7.96l-1.37-1.37c-.4-.4-.92-.59-1.43-.59-.52 0-1.04.2-1.43.59L10.3 9.45l-7.72 7.72c-.78.78-.78 2.05 0 2.83L4 21.41c.39.39.9.59 1.41.59.51 0 1.02-.2 1.41-.59l7.78-7.78 2.81-2.81c.8-.78.8-2.07 0-2.86zM5.41 20L4 18.59l7.72-7.72 1.47 1.35L5.41 20z\"/>\n",
              "  </svg>\n",
              "      </button>\n",
              "      \n",
              "  <style>\n",
              "    .colab-df-container {\n",
              "      display:flex;\n",
              "      flex-wrap:wrap;\n",
              "      gap: 12px;\n",
              "    }\n",
              "\n",
              "    .colab-df-convert {\n",
              "      background-color: #E8F0FE;\n",
              "      border: none;\n",
              "      border-radius: 50%;\n",
              "      cursor: pointer;\n",
              "      display: none;\n",
              "      fill: #1967D2;\n",
              "      height: 32px;\n",
              "      padding: 0 0 0 0;\n",
              "      width: 32px;\n",
              "    }\n",
              "\n",
              "    .colab-df-convert:hover {\n",
              "      background-color: #E2EBFA;\n",
              "      box-shadow: 0px 1px 2px rgba(60, 64, 67, 0.3), 0px 1px 3px 1px rgba(60, 64, 67, 0.15);\n",
              "      fill: #174EA6;\n",
              "    }\n",
              "\n",
              "    [theme=dark] .colab-df-convert {\n",
              "      background-color: #3B4455;\n",
              "      fill: #D2E3FC;\n",
              "    }\n",
              "\n",
              "    [theme=dark] .colab-df-convert:hover {\n",
              "      background-color: #434B5C;\n",
              "      box-shadow: 0px 1px 3px 1px rgba(0, 0, 0, 0.15);\n",
              "      filter: drop-shadow(0px 1px 2px rgba(0, 0, 0, 0.3));\n",
              "      fill: #FFFFFF;\n",
              "    }\n",
              "  </style>\n",
              "\n",
              "      <script>\n",
              "        const buttonEl =\n",
              "          document.querySelector('#df-222c0021-f5e9-4c92-8d54-b55031c23b10 button.colab-df-convert');\n",
              "        buttonEl.style.display =\n",
              "          google.colab.kernel.accessAllowed ? 'block' : 'none';\n",
              "\n",
              "        async function convertToInteractive(key) {\n",
              "          const element = document.querySelector('#df-222c0021-f5e9-4c92-8d54-b55031c23b10');\n",
              "          const dataTable =\n",
              "            await google.colab.kernel.invokeFunction('convertToInteractive',\n",
              "                                                     [key], {});\n",
              "          if (!dataTable) return;\n",
              "\n",
              "          const docLinkHtml = 'Like what you see? Visit the ' +\n",
              "            '<a target=\"_blank\" href=https://colab.research.google.com/notebooks/data_table.ipynb>data table notebook</a>'\n",
              "            + ' to learn more about interactive tables.';\n",
              "          element.innerHTML = '';\n",
              "          dataTable['output_type'] = 'display_data';\n",
              "          await google.colab.output.renderOutput(dataTable, element);\n",
              "          const docLink = document.createElement('div');\n",
              "          docLink.innerHTML = docLinkHtml;\n",
              "          element.appendChild(docLink);\n",
              "        }\n",
              "      </script>\n",
              "    </div>\n",
              "  </div>\n",
              "  "
            ]
          },
          "metadata": {},
          "execution_count": 457
        }
      ]
    },
    {
      "cell_type": "code",
      "source": [
        "best_threshold = 0.82\n",
        "result(y_test, y_prob_mean, threshold=best_threshold)"
      ],
      "metadata": {
        "colab": {
          "base_uri": "https://localhost:8080/"
        },
        "id": "rJmr8meMnFCp",
        "outputId": "db4c83cf-efbc-49cd-e671-2c2660599b32"
      },
      "execution_count": null,
      "outputs": [
        {
          "output_type": "stream",
          "name": "stdout",
          "text": [
            "AUC 0.9483, F1 0.5233, Precision 0.4103, Recall 0.7223, Accuracy 0.9100\n"
          ]
        },
        {
          "output_type": "execute_result",
          "data": {
            "text/plain": [
              "(0.9483494279584965,\n",
              " 0.5233439839763461,\n",
              " 0.410335028417589,\n",
              " 0.7222587863630381,\n",
              " 0.9100003601786486)"
            ]
          },
          "metadata": {},
          "execution_count": 459
        }
      ]
    },
    {
      "cell_type": "code",
      "source": [
        "import seaborn as sn\n",
        "confusion = confusion_matrix(y_test, y_prob_mean>=best_threshold)\n",
        "df_cm = pd.DataFrame(confusion)\n",
        "# plt.figure(figsize=(10,7))\n",
        "sn.set(font_scale=1.4) # for label size\n",
        "sn.heatmap(df_cm, annot=True, annot_kws={\"size\": 16}) # font size\n",
        "\n",
        "plt.show()"
      ],
      "metadata": {
        "colab": {
          "base_uri": "https://localhost:8080/",
          "height": 273
        },
        "id": "wiBtwoU0w9bc",
        "outputId": "cade0398-c87e-4318-e811-9336cb51bf5f"
      },
      "execution_count": null,
      "outputs": [
        {
          "output_type": "display_data",
          "data": {
            "text/plain": [
              "<Figure size 432x288 with 2 Axes>"
            ],
            "image/png": "[encoded data removed]"
          },
          "metadata": {}
        }
      ]
    },
    {
      "cell_type": "code",
      "source": [
        "!lscpu"
      ],
      "metadata": {
        "colab": {
          "base_uri": "https://localhost:8080/"
        },
        "id": "xliiA80SyQZv",
        "outputId": "2f82ca42-64b7-4a41-f10d-b9308ae99a98"
      },
      "execution_count": null,
      "outputs": [
        {
          "output_type": "stream",
          "name": "stdout",
          "text": [
            "Architecture:        x86_64\n",
            "CPU op-mode(s):      32-bit, 64-bit\n",
            "Byte Order:          Little Endian\n",
            "CPU(s):              2\n",
            "On-line CPU(s) list: 0,1\n",
            "Thread(s) per core:  2\n",
            "Core(s) per socket:  1\n",
            "Socket(s):           1\n",
            "NUMA node(s):        1\n",
            "Vendor ID:           GenuineIntel\n",
            "CPU family:          6\n",
            "Model:               79\n",
            "Model name:          Intel(R) Xeon(R) CPU @ 2.20GHz\n",
            "Stepping:            0\n",
            "CPU MHz:             2199.998\n",
            "BogoMIPS:            4399.99\n",
            "Hypervisor vendor:   KVM\n",
            "Virtualization type: full\n",
            "L1d cache:           32K\n",
            "L1i cache:           32K\n",
            "L2 cache:            256K\n",
            "L3 cache:            56320K\n",
            "NUMA node0 CPU(s):   0,1\n",
            "Flags:               fpu vme de pse tsc msr pae mce cx8 apic sep mtrr pge mca cmov pat pse36 clflush mmx fxsr sse sse2 ss ht syscall nx pdpe1gb rdtscp lm constant_tsc rep_good nopl xtopology nonstop_tsc cpuid tsc_known_freq pni pclmulqdq ssse3 fma cx16 pcid sse4_1 sse4_2 x2apic movbe popcnt aes xsave avx f16c rdrand hypervisor lahf_lm abm 3dnowprefetch invpcid_single ssbd ibrs ibpb stibp fsgsbase tsc_adjust bmi1 hle avx2 smep bmi2 erms invpcid rtm rdseed adx smap xsaveopt arat md_clear arch_capabilities\n"
          ]
        }
      ]
    },
    {
      "cell_type": "code",
      "source": [
        ""
      ],
      "metadata": {
        "id": "vIX3nMLdyRXA"
      },
      "execution_count": null,
      "outputs": []
    }
  ]
}